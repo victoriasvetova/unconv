{
  "cells": [
    {
      "cell_type": "markdown",
      "id": "b054bd88",
      "metadata": {
        "id": "b054bd88"
      },
      "source": [
        "# <center> Линейная алгебра в контексте линейных методов. Практика.\n",
        "\n",
        "## <center> Прогнозирование выработки газа на скважинах."
      ]
    },
    {
      "cell_type": "markdown",
      "id": "325bc80b",
      "metadata": {
        "id": "325bc80b"
      },
      "source": [
        "## Постановка задачи"
      ]
    },
    {
      "cell_type": "markdown",
      "id": "8247bd54",
      "metadata": {
        "id": "8247bd54"
      },
      "source": [
        "У Василия, основателя компании «Газ-Таз-Ваз-Нефть», дела идут в гору: у него уже функционирует 200 скважин для добычи газа. В этом году он открывает 30 новых скважин. Однако в целях оптимизации расходов и повышения дохода Василию необходимо оценить, сколько денег будет приносить ему каждая из скважин, а также понять, какие факторы (параметры скважин) потенциально сильнее всего повлияют на объём добычи газа. Для этого Василий решил нанять вас как специалиста в области Data Science.\n",
        "\n",
        "Василий представляет вам набор данных о добыче газа на своих скважинах. Файл с данными вы можете скачать на платформе.\n",
        "\n",
        "**Признаки в данных:**\n",
        "\n",
        "* Well — идентификатор скважины;\n",
        "* Por — пористость скважины (%);\n",
        "* Perm — проницаемость скважины;\n",
        "* AI — акустический импеданс ($кг/м^2 * 10^6$);\n",
        "* Brittle — коэффициент хрупкости скважины (%);\n",
        "* TOC — общий органический углерод (%);\n",
        "* VR — коэффициент отражения витринита (%);\n",
        "* Prod — добыча газа в сутки (млн. кубических футов).\n",
        "\n",
        "**Ваша задача** — построить регрессионную модель, которая прогнозирует выработку газа на скважине (целевой признак — Prod) на основе остальных характеристик скважины, и проинтерпретировать результаты вашей модели.\n",
        "\n",
        "Разделим задачу на две части:\n",
        "* В первой мы построим простейшую модель линейной регрессии, проанализируем результаты её работы и выберем наиболее значимые факторы для прогнозирования.\n",
        "* Во второй мы займёмся построением модели полиномиальной регрессии с регуляризацией и посмотрим на итоговые результаты моделирования.\n"
      ]
    },
    {
      "cell_type": "markdown",
      "id": "d67d069e",
      "metadata": {
        "id": "d67d069e"
      },
      "source": [
        "Импортируем необходимые библиотеки:"
      ]
    },
    {
      "cell_type": "code",
      "execution_count": 145,
      "id": "83a555bc-8dff-4b7e-bba1-cd4f4a9e69b2",
      "metadata": {
        "id": "83a555bc-8dff-4b7e-bba1-cd4f4a9e69b2",
        "colab": {
          "base_uri": "https://localhost:8080/"
        },
        "outputId": "f2545c0e-a74a-4a82-ff14-5a5e90f90b9e"
      },
      "outputs": [
        {
          "output_type": "stream",
          "name": "stdout",
          "text": [
            "Drive already mounted at /content/drive; to attempt to forcibly remount, call drive.mount(\"/content/drive\", force_remount=True).\n"
          ]
        }
      ],
      "source": [
        "# Импорт библиотек\n",
        "import numpy as np # для работы с массивами\n",
        "import pandas as pd # для работы с DataFrame\n",
        "import seaborn as sns # библиотека для визуализации статистических данных\n",
        "import matplotlib.pyplot as plt # для построения графиков\n",
        "\n",
        "%matplotlib inline\n",
        "\n",
        "from google.colab import drive\n",
        "drive.mount('/content/drive')"
      ]
    },
    {
      "cell_type": "markdown",
      "id": "e689ddaf",
      "metadata": {
        "id": "e689ddaf"
      },
      "source": [
        "Прочитаем исходные данные:"
      ]
    },
    {
      "cell_type": "code",
      "execution_count": 146,
      "id": "b7b5cd9b-703f-4dbc-a6e3-61d583eafcac",
      "metadata": {
        "colab": {
          "base_uri": "https://localhost:8080/",
          "height": 206
        },
        "id": "b7b5cd9b-703f-4dbc-a6e3-61d583eafcac",
        "outputId": "8710dce8-6f93-4fb5-86dc-f411d4c80be3"
      },
      "outputs": [
        {
          "output_type": "execute_result",
          "data": {
            "text/plain": [
              "   Well    Por  Perm    AI  Brittle   TOC    VR         Prod\n",
              "0     1  12.08  2.92  2.80    81.40  1.16  2.31  4165.196191\n",
              "1     2  12.38  3.53  3.22    46.17  0.89  1.88  3561.146205\n",
              "2     3  14.02  2.59  4.01    72.80  0.89  2.72  4284.348574\n",
              "3     4  17.67  6.75  2.63    39.81  1.08  1.88  5098.680869\n",
              "4     5  17.52  4.57  3.18    10.94  1.51  1.90  3406.132832"
            ],
            "text/html": [
              "\n",
              "  <div id=\"df-be51cb81-22f5-42c0-b803-d7f1074d7af9\" class=\"colab-df-container\">\n",
              "    <div>\n",
              "<style scoped>\n",
              "    .dataframe tbody tr th:only-of-type {\n",
              "        vertical-align: middle;\n",
              "    }\n",
              "\n",
              "    .dataframe tbody tr th {\n",
              "        vertical-align: top;\n",
              "    }\n",
              "\n",
              "    .dataframe thead th {\n",
              "        text-align: right;\n",
              "    }\n",
              "</style>\n",
              "<table border=\"1\" class=\"dataframe\">\n",
              "  <thead>\n",
              "    <tr style=\"text-align: right;\">\n",
              "      <th></th>\n",
              "      <th>Well</th>\n",
              "      <th>Por</th>\n",
              "      <th>Perm</th>\n",
              "      <th>AI</th>\n",
              "      <th>Brittle</th>\n",
              "      <th>TOC</th>\n",
              "      <th>VR</th>\n",
              "      <th>Prod</th>\n",
              "    </tr>\n",
              "  </thead>\n",
              "  <tbody>\n",
              "    <tr>\n",
              "      <th>0</th>\n",
              "      <td>1</td>\n",
              "      <td>12.08</td>\n",
              "      <td>2.92</td>\n",
              "      <td>2.80</td>\n",
              "      <td>81.40</td>\n",
              "      <td>1.16</td>\n",
              "      <td>2.31</td>\n",
              "      <td>4165.196191</td>\n",
              "    </tr>\n",
              "    <tr>\n",
              "      <th>1</th>\n",
              "      <td>2</td>\n",
              "      <td>12.38</td>\n",
              "      <td>3.53</td>\n",
              "      <td>3.22</td>\n",
              "      <td>46.17</td>\n",
              "      <td>0.89</td>\n",
              "      <td>1.88</td>\n",
              "      <td>3561.146205</td>\n",
              "    </tr>\n",
              "    <tr>\n",
              "      <th>2</th>\n",
              "      <td>3</td>\n",
              "      <td>14.02</td>\n",
              "      <td>2.59</td>\n",
              "      <td>4.01</td>\n",
              "      <td>72.80</td>\n",
              "      <td>0.89</td>\n",
              "      <td>2.72</td>\n",
              "      <td>4284.348574</td>\n",
              "    </tr>\n",
              "    <tr>\n",
              "      <th>3</th>\n",
              "      <td>4</td>\n",
              "      <td>17.67</td>\n",
              "      <td>6.75</td>\n",
              "      <td>2.63</td>\n",
              "      <td>39.81</td>\n",
              "      <td>1.08</td>\n",
              "      <td>1.88</td>\n",
              "      <td>5098.680869</td>\n",
              "    </tr>\n",
              "    <tr>\n",
              "      <th>4</th>\n",
              "      <td>5</td>\n",
              "      <td>17.52</td>\n",
              "      <td>4.57</td>\n",
              "      <td>3.18</td>\n",
              "      <td>10.94</td>\n",
              "      <td>1.51</td>\n",
              "      <td>1.90</td>\n",
              "      <td>3406.132832</td>\n",
              "    </tr>\n",
              "  </tbody>\n",
              "</table>\n",
              "</div>\n",
              "    <div class=\"colab-df-buttons\">\n",
              "\n",
              "  <div class=\"colab-df-container\">\n",
              "    <button class=\"colab-df-convert\" onclick=\"convertToInteractive('df-be51cb81-22f5-42c0-b803-d7f1074d7af9')\"\n",
              "            title=\"Convert this dataframe to an interactive table.\"\n",
              "            style=\"display:none;\">\n",
              "\n",
              "  <svg xmlns=\"http://www.w3.org/2000/svg\" height=\"24px\" viewBox=\"0 -960 960 960\">\n",
              "    <path d=\"M120-120v-720h720v720H120Zm60-500h600v-160H180v160Zm220 220h160v-160H400v160Zm0 220h160v-160H400v160ZM180-400h160v-160H180v160Zm440 0h160v-160H620v160ZM180-180h160v-160H180v160Zm440 0h160v-160H620v160Z\"/>\n",
              "  </svg>\n",
              "    </button>\n",
              "\n",
              "  <style>\n",
              "    .colab-df-container {\n",
              "      display:flex;\n",
              "      gap: 12px;\n",
              "    }\n",
              "\n",
              "    .colab-df-convert {\n",
              "      background-color: #E8F0FE;\n",
              "      border: none;\n",
              "      border-radius: 50%;\n",
              "      cursor: pointer;\n",
              "      display: none;\n",
              "      fill: #1967D2;\n",
              "      height: 32px;\n",
              "      padding: 0 0 0 0;\n",
              "      width: 32px;\n",
              "    }\n",
              "\n",
              "    .colab-df-convert:hover {\n",
              "      background-color: #E2EBFA;\n",
              "      box-shadow: 0px 1px 2px rgba(60, 64, 67, 0.3), 0px 1px 3px 1px rgba(60, 64, 67, 0.15);\n",
              "      fill: #174EA6;\n",
              "    }\n",
              "\n",
              "    .colab-df-buttons div {\n",
              "      margin-bottom: 4px;\n",
              "    }\n",
              "\n",
              "    [theme=dark] .colab-df-convert {\n",
              "      background-color: #3B4455;\n",
              "      fill: #D2E3FC;\n",
              "    }\n",
              "\n",
              "    [theme=dark] .colab-df-convert:hover {\n",
              "      background-color: #434B5C;\n",
              "      box-shadow: 0px 1px 3px 1px rgba(0, 0, 0, 0.15);\n",
              "      filter: drop-shadow(0px 1px 2px rgba(0, 0, 0, 0.3));\n",
              "      fill: #FFFFFF;\n",
              "    }\n",
              "  </style>\n",
              "\n",
              "    <script>\n",
              "      const buttonEl =\n",
              "        document.querySelector('#df-be51cb81-22f5-42c0-b803-d7f1074d7af9 button.colab-df-convert');\n",
              "      buttonEl.style.display =\n",
              "        google.colab.kernel.accessAllowed ? 'block' : 'none';\n",
              "\n",
              "      async function convertToInteractive(key) {\n",
              "        const element = document.querySelector('#df-be51cb81-22f5-42c0-b803-d7f1074d7af9');\n",
              "        const dataTable =\n",
              "          await google.colab.kernel.invokeFunction('convertToInteractive',\n",
              "                                                    [key], {});\n",
              "        if (!dataTable) return;\n",
              "\n",
              "        const docLinkHtml = 'Like what you see? Visit the ' +\n",
              "          '<a target=\"_blank\" href=https://colab.research.google.com/notebooks/data_table.ipynb>data table notebook</a>'\n",
              "          + ' to learn more about interactive tables.';\n",
              "        element.innerHTML = '';\n",
              "        dataTable['output_type'] = 'display_data';\n",
              "        await google.colab.output.renderOutput(dataTable, element);\n",
              "        const docLink = document.createElement('div');\n",
              "        docLink.innerHTML = docLinkHtml;\n",
              "        element.appendChild(docLink);\n",
              "      }\n",
              "    </script>\n",
              "  </div>\n",
              "\n",
              "\n",
              "<div id=\"df-5e045869-b354-42e8-9e67-f20305855d06\">\n",
              "  <button class=\"colab-df-quickchart\" onclick=\"quickchart('df-5e045869-b354-42e8-9e67-f20305855d06')\"\n",
              "            title=\"Suggest charts\"\n",
              "            style=\"display:none;\">\n",
              "\n",
              "<svg xmlns=\"http://www.w3.org/2000/svg\" height=\"24px\"viewBox=\"0 0 24 24\"\n",
              "     width=\"24px\">\n",
              "    <g>\n",
              "        <path d=\"M19 3H5c-1.1 0-2 .9-2 2v14c0 1.1.9 2 2 2h14c1.1 0 2-.9 2-2V5c0-1.1-.9-2-2-2zM9 17H7v-7h2v7zm4 0h-2V7h2v10zm4 0h-2v-4h2v4z\"/>\n",
              "    </g>\n",
              "</svg>\n",
              "  </button>\n",
              "\n",
              "<style>\n",
              "  .colab-df-quickchart {\n",
              "      --bg-color: #E8F0FE;\n",
              "      --fill-color: #1967D2;\n",
              "      --hover-bg-color: #E2EBFA;\n",
              "      --hover-fill-color: #174EA6;\n",
              "      --disabled-fill-color: #AAA;\n",
              "      --disabled-bg-color: #DDD;\n",
              "  }\n",
              "\n",
              "  [theme=dark] .colab-df-quickchart {\n",
              "      --bg-color: #3B4455;\n",
              "      --fill-color: #D2E3FC;\n",
              "      --hover-bg-color: #434B5C;\n",
              "      --hover-fill-color: #FFFFFF;\n",
              "      --disabled-bg-color: #3B4455;\n",
              "      --disabled-fill-color: #666;\n",
              "  }\n",
              "\n",
              "  .colab-df-quickchart {\n",
              "    background-color: var(--bg-color);\n",
              "    border: none;\n",
              "    border-radius: 50%;\n",
              "    cursor: pointer;\n",
              "    display: none;\n",
              "    fill: var(--fill-color);\n",
              "    height: 32px;\n",
              "    padding: 0;\n",
              "    width: 32px;\n",
              "  }\n",
              "\n",
              "  .colab-df-quickchart:hover {\n",
              "    background-color: var(--hover-bg-color);\n",
              "    box-shadow: 0 1px 2px rgba(60, 64, 67, 0.3), 0 1px 3px 1px rgba(60, 64, 67, 0.15);\n",
              "    fill: var(--button-hover-fill-color);\n",
              "  }\n",
              "\n",
              "  .colab-df-quickchart-complete:disabled,\n",
              "  .colab-df-quickchart-complete:disabled:hover {\n",
              "    background-color: var(--disabled-bg-color);\n",
              "    fill: var(--disabled-fill-color);\n",
              "    box-shadow: none;\n",
              "  }\n",
              "\n",
              "  .colab-df-spinner {\n",
              "    border: 2px solid var(--fill-color);\n",
              "    border-color: transparent;\n",
              "    border-bottom-color: var(--fill-color);\n",
              "    animation:\n",
              "      spin 1s steps(1) infinite;\n",
              "  }\n",
              "\n",
              "  @keyframes spin {\n",
              "    0% {\n",
              "      border-color: transparent;\n",
              "      border-bottom-color: var(--fill-color);\n",
              "      border-left-color: var(--fill-color);\n",
              "    }\n",
              "    20% {\n",
              "      border-color: transparent;\n",
              "      border-left-color: var(--fill-color);\n",
              "      border-top-color: var(--fill-color);\n",
              "    }\n",
              "    30% {\n",
              "      border-color: transparent;\n",
              "      border-left-color: var(--fill-color);\n",
              "      border-top-color: var(--fill-color);\n",
              "      border-right-color: var(--fill-color);\n",
              "    }\n",
              "    40% {\n",
              "      border-color: transparent;\n",
              "      border-right-color: var(--fill-color);\n",
              "      border-top-color: var(--fill-color);\n",
              "    }\n",
              "    60% {\n",
              "      border-color: transparent;\n",
              "      border-right-color: var(--fill-color);\n",
              "    }\n",
              "    80% {\n",
              "      border-color: transparent;\n",
              "      border-right-color: var(--fill-color);\n",
              "      border-bottom-color: var(--fill-color);\n",
              "    }\n",
              "    90% {\n",
              "      border-color: transparent;\n",
              "      border-bottom-color: var(--fill-color);\n",
              "    }\n",
              "  }\n",
              "</style>\n",
              "\n",
              "  <script>\n",
              "    async function quickchart(key) {\n",
              "      const quickchartButtonEl =\n",
              "        document.querySelector('#' + key + ' button');\n",
              "      quickchartButtonEl.disabled = true;  // To prevent multiple clicks.\n",
              "      quickchartButtonEl.classList.add('colab-df-spinner');\n",
              "      try {\n",
              "        const charts = await google.colab.kernel.invokeFunction(\n",
              "            'suggestCharts', [key], {});\n",
              "      } catch (error) {\n",
              "        console.error('Error during call to suggestCharts:', error);\n",
              "      }\n",
              "      quickchartButtonEl.classList.remove('colab-df-spinner');\n",
              "      quickchartButtonEl.classList.add('colab-df-quickchart-complete');\n",
              "    }\n",
              "    (() => {\n",
              "      let quickchartButtonEl =\n",
              "        document.querySelector('#df-5e045869-b354-42e8-9e67-f20305855d06 button');\n",
              "      quickchartButtonEl.style.display =\n",
              "        google.colab.kernel.accessAllowed ? 'block' : 'none';\n",
              "    })();\n",
              "  </script>\n",
              "</div>\n",
              "    </div>\n",
              "  </div>\n"
            ],
            "application/vnd.google.colaboratory.intrinsic+json": {
              "type": "dataframe",
              "variable_name": "data",
              "summary": "{\n  \"name\": \"data\",\n  \"rows\": 200,\n  \"fields\": [\n    {\n      \"column\": \"Well\",\n      \"properties\": {\n        \"dtype\": \"number\",\n        \"std\": 57,\n        \"min\": 1,\n        \"max\": 200,\n        \"num_unique_values\": 200,\n        \"samples\": [\n          96,\n          16,\n          31\n        ],\n        \"semantic_type\": \"\",\n        \"description\": \"\"\n      }\n    },\n    {\n      \"column\": \"Por\",\n      \"properties\": {\n        \"dtype\": \"number\",\n        \"std\": 2.971176471640172,\n        \"min\": 6.55,\n        \"max\": 23.55,\n        \"num_unique_values\": 188,\n        \"samples\": [\n          11.95,\n          12.94,\n          14.73\n        ],\n        \"semantic_type\": \"\",\n        \"description\": \"\"\n      }\n    },\n    {\n      \"column\": \"Perm\",\n      \"properties\": {\n        \"dtype\": \"number\",\n        \"std\": 1.7310141499817924,\n        \"min\": 1.13,\n        \"max\": 9.87,\n        \"num_unique_values\": 110,\n        \"samples\": [\n          2.48,\n          4.39,\n          4.57\n        ],\n        \"semantic_type\": \"\",\n        \"description\": \"\"\n      }\n    },\n    {\n      \"column\": \"AI\",\n      \"properties\": {\n        \"dtype\": \"number\",\n        \"std\": 0.5668853255834102,\n        \"min\": 1.28,\n        \"max\": 4.63,\n        \"num_unique_values\": 128,\n        \"samples\": [\n          2.25,\n          2.56,\n          2.38\n        ],\n        \"semantic_type\": \"\",\n        \"description\": \"\"\n      }\n    },\n    {\n      \"column\": \"Brittle\",\n      \"properties\": {\n        \"dtype\": \"number\",\n        \"std\": 14.129454914411664,\n        \"min\": 10.94,\n        \"max\": 84.33,\n        \"num_unique_values\": 195,\n        \"samples\": [\n          56.29,\n          35.49,\n          56.09\n        ],\n        \"semantic_type\": \"\",\n        \"description\": \"\"\n      }\n    },\n    {\n      \"column\": \"TOC\",\n      \"properties\": {\n        \"dtype\": \"number\",\n        \"std\": 0.48158792775650433,\n        \"min\": -0.19,\n        \"max\": 2.18,\n        \"num_unique_values\": 120,\n        \"samples\": [\n          1.24,\n          1.97,\n          0.94\n        ],\n        \"semantic_type\": \"\",\n        \"description\": \"\"\n      }\n    },\n    {\n      \"column\": \"VR\",\n      \"properties\": {\n        \"dtype\": \"number\",\n        \"std\": 0.3008271845676094,\n        \"min\": 0.93,\n        \"max\": 2.87,\n        \"num_unique_values\": 95,\n        \"samples\": [\n          2.42,\n          2.04,\n          2.08\n        ],\n        \"semantic_type\": \"\",\n        \"description\": \"\"\n      }\n    },\n    {\n      \"column\": \"Prod\",\n      \"properties\": {\n        \"dtype\": \"number\",\n        \"std\": 992.0384140187238,\n        \"min\": 2107.139414,\n        \"max\": 6662.622385,\n        \"num_unique_values\": 200,\n        \"samples\": [\n          5350.949293,\n          3539.984263,\n          5859.748328\n        ],\n        \"semantic_type\": \"\",\n        \"description\": \"\"\n      }\n    }\n  ]\n}"
            }
          },
          "metadata": {},
          "execution_count": 146
        }
      ],
      "source": [
        "data = pd.read_csv('/content/drive/MyDrive/Colab Notebooks/мифи семестры/1 семестр/Линейная алгебра/1 дз/unconv.csv')\n",
        "data.head()"
      ]
    },
    {
      "cell_type": "markdown",
      "id": "58639b40",
      "metadata": {
        "id": "58639b40"
      },
      "source": [
        "## Практика: линейная регрессия по методу наименьших квадратов"
      ]
    },
    {
      "cell_type": "markdown",
      "id": "a90535b8",
      "metadata": {
        "id": "a90535b8"
      },
      "source": [
        "Для начала построим простейшую модель линейной регрессии, проанализируем результаты её работы и выберем наиболее значимые факторы для прогнозирования.\n",
        "\n",
        "В первой части вам предстоит выполнить задания 5.0–5.6. Максимальное количество баллов, которое можно получить, — 9."
      ]
    },
    {
      "cell_type": "markdown",
      "id": "4061b706",
      "metadata": {
        "id": "4061b706"
      },
      "source": [
        "### Задание 5.0. (не оценивается)\n",
        "\n",
        "Проведите небольшой разведывательный анализ, чтобы поближе познакомиться с исходными данными. Постройте несколько визуализаций, которые помогут вам понять, как устроены исходные признаки, а также смогут продемонстрировать взаимосвязь факторов.\n",
        "\n",
        "Сделайте промежуточные выводы из проведённого разведывательного анализа."
      ]
    },
    {
      "cell_type": "code",
      "execution_count": 147,
      "id": "daf1ccc7",
      "metadata": {
        "id": "daf1ccc7",
        "colab": {
          "base_uri": "https://localhost:8080/",
          "height": 243
        },
        "outputId": "7cbfa1bd-1c5b-4ab1-a552-faadf462926c"
      },
      "outputs": [
        {
          "output_type": "display_data",
          "data": {
            "text/plain": [
              "<Figure size 2100x300 with 7 Axes>"
            ],
            "image/png": "[encoded data removed]"
          },
          "metadata": {}
        }
      ],
      "source": [
        "# Отображение зависимостей с `Prod`\n",
        "sns.pairplot(data, x_vars=data.columns[:-1], y_vars=\"Prod\", diag_kind=None, kind=\"scatter\", height=3, aspect=1)\n",
        "plt.suptitle(\"Графический анализ переменной Prod\", y=1.02)\n",
        "plt.show()"
      ]
    },
    {
      "cell_type": "markdown",
      "source": [
        "Добыча газа в сутки имеет прямую пропорциональную зависимость от пористости и проницаемости скважины. При этом другие исследованные признаки не оказывают существенного влияния на объем добычи."
      ],
      "metadata": {
        "id": "f5yz1MZCzjML"
      },
      "id": "f5yz1MZCzjML"
    },
    {
      "cell_type": "markdown",
      "id": "d11cb44f",
      "metadata": {
        "id": "d11cb44f"
      },
      "source": [
        "### Задание 5.1. (2 балла)\n",
        "\n",
        "Постройте корреляционную матрицу факторов, включив в неё целевой признак.\n",
        "\n",
        "Для наглядности визуализируйте полученную матрицу с помощью тепловой карты.\n",
        "\n",
        "**Примечание.** *Для визуализации вы можете использовать любую из знакомых вам библиотек.*\n",
        "\n",
        "На основе построенной корреляционной матрицы ответьте на следующий вопрос:\n",
        "\n",
        "* Какие факторы сильнее всего коррелируют с целевой переменной?\n",
        "\n",
        "Вычислите ранг и определитель полученной матрицы корреляций и приведите развёрнутые ответы на следующие вопросы:\n",
        "* Является ли корреляционная матрица плохо обусловенной (близок ли её опредитель к нулю)?\n",
        "* Что вы можете сказать о наличии коллинераности/мультиколлинеарности в данных?\n",
        "* Применима ли в данном случае модель классической линейной регрессии по методу наименьших квадратов и почему?"
      ]
    },
    {
      "cell_type": "markdown",
      "source": [
        "**Критерии оценивания:**\n",
        "- Задание выполнено верно, учтены все условия (**2 балла**):\n",
        "    * приведён код для расчёта корреляционной матрицы;\n",
        "    * приведён код для визуализации корреляционной матрицы в виде тепловой карты;\n",
        "    * рассчитаны ранг и определитель корреляционной матрицы;\n",
        "    * предоставлены обоснованные ответы на все поставленные вопросы.\n",
        "\n",
        "- Задание выполнено верно, но не учтено одно условие (**1 балл**).\n",
        "- Задание выполнено неверно, не учтено несколько условий (**0 баллов**)."
      ],
      "metadata": {
        "id": "57OjUl5e2oiL"
      },
      "id": "57OjUl5e2oiL"
    },
    {
      "cell_type": "code",
      "execution_count": 148,
      "id": "af00a5a0",
      "metadata": {
        "id": "af00a5a0",
        "colab": {
          "base_uri": "https://localhost:8080/",
          "height": 927
        },
        "outputId": "f3b44807-6fa6-4ff2-eb13-2d210c302845"
      },
      "outputs": [
        {
          "output_type": "stream",
          "name": "stdout",
          "text": [
            "Корреляционная матрица:\n",
            "              Well       Por      Perm        AI   Brittle       TOC        VR  \\\n",
            "Well     1.000000  0.068927  0.077928  0.041483 -0.079252  0.022624 -0.007279   \n",
            "Por      0.068927  1.000000  0.760546 -0.461549 -0.218570  0.711831  0.111860   \n",
            "Perm     0.077928  0.760546  1.000000 -0.239636 -0.124017  0.471746  0.051023   \n",
            "AI       0.041483 -0.461549 -0.239636  1.000000  0.127599 -0.531864  0.499143   \n",
            "Brittle -0.079252 -0.218570 -0.124017  0.127599  1.000000 -0.214282  0.317929   \n",
            "TOC      0.022624  0.711831  0.471746 -0.531864 -0.214282  1.000000  0.299483   \n",
            "VR      -0.007279  0.111860  0.051023  0.499143  0.317929  0.299483  1.000000   \n",
            "Prod     0.026817  0.861910  0.727426 -0.390835  0.237155  0.654445  0.323182   \n",
            "\n",
            "             Prod  \n",
            "Well     0.026817  \n",
            "Por      0.861910  \n",
            "Perm     0.727426  \n",
            "AI      -0.390835  \n",
            "Brittle  0.237155  \n",
            "TOC      0.654445  \n",
            "VR       0.323182  \n",
            "Prod     1.000000  \n"
          ]
        },
        {
          "output_type": "display_data",
          "data": {
            "text/plain": [
              "<Figure size 1000x600 with 2 Axes>"
            ],
            "image/png": "[encoded data removed]"
          },
          "metadata": {}
        },
        {
          "output_type": "stream",
          "name": "stdout",
          "text": [
            "Ранг корреляционной матрицы: 8\n",
            "Определитель корреляционной матрицы: 0.0007299388072652095\n"
          ]
        }
      ],
      "source": [
        "# расчёт корреляционной матрицы\n",
        "correlation_matrix = data.corr()\n",
        "print(\"Корреляционная матрица:\\n\", correlation_matrix)\n",
        "\n",
        "# визуализация корреляционной матрицы в виде тепловой карт\n",
        "plt.figure(figsize=(10, 6))\n",
        "sns.heatmap(correlation_matrix, annot=True, cmap=\"coolwarm\", fmt=\".2f\")\n",
        "plt.title(\"Тепловая карта корреляционной матрицы\")\n",
        "plt.show()\n",
        "\n",
        "# рассчет ранг и определитель корреляционной матрицы\n",
        "rank = np.linalg.matrix_rank(correlation_matrix)\n",
        "print(\"Ранг корреляционной матрицы:\", rank)\n",
        "determinant = np.linalg.det(correlation_matrix)\n",
        "print(\"Определитель корреляционной матрицы:\", determinant)"
      ]
    },
    {
      "cell_type": "markdown",
      "id": "9a56013d",
      "metadata": {
        "id": "9a56013d"
      },
      "source": [
        "На основе построенной корреляционной матрицы ответьте на следующий вопрос:\n",
        "\n",
        "- Больше всего коррелируют с целевой переменной Por, Perm и TOC.\n",
        "\n",
        "-  **Ранг** корреляционной матрицы: 8\n",
        "\n",
        "  **Определитель** корреляционной матрицы: 0.0007299388072652095\n",
        "\n",
        "-  Ранг корреляционной матрицы равен числу признаков в данных (8). Это означает, что все переменные линейно независимы.\n",
        "\n",
        "-  Низкое значение определителя говорит о том, что корреляционная матрица близка к вырожденной. Это свидетельствует о наличии высокой корреляции между некоторыми признаками. Корреляционная матрица плохо обусловлена.\n",
        "\n",
        "-  Мультиколлинеарность наблюдается в данных, так как существует высокая корреляция между Por и Perm (0.76) и между Por и TOC (0.71).\n",
        "Это подтверждается также низким определителем корреляционной матрицы, что указывает на сильную линейную связь между несколькими признаками.\n",
        "\n",
        "-  Метод наименьших квадратов в классической линейной регрессии становится менее эффективным в условиях мультиколлинеарности из-за нестабильность коэффициентов. Применение классической линейной регрессии возможно, но не рекомендуется без предварительных шагов по устранению мультиколлинеарности.\n",
        "\n",
        "\n"
      ]
    },
    {
      "cell_type": "markdown",
      "id": "43fd91c4",
      "metadata": {
        "id": "43fd91c4"
      },
      "source": [
        "### Задание 5.2. (2 балла)\n",
        "\n",
        "Создайте матрицу наблюдений `X` и вектор правильных ответов `y`. В качестве факторов для матрицы наблюдений возьмите все имеющиеся в данных признаки.\n",
        "\n",
        "Постройте модель линейной регрессии по методу наименьших квадратов. Для этого воспользуйтесь матричной формулой МНК и инструментарием библиотеки numpy.\n",
        "\n",
        "Выведите на экран полученные оценки коэффициентов модели, округлённые до целого.\n",
        "\n",
        "Приведите подробные выводы по полученным результатам, ответив на следующие вопросы:\n",
        "* Есть ли в ваших данных признаки, которые, согласно модели, можно назвать неинформативными, то есть они не оказывают влияния на целевую переменную или оказывают шумовое влияние?\n",
        "* Приведите интерпретацию нескольких (двух или трёх) коэффициентов полученной модели линейной регрессии.\n"
      ]
    },
    {
      "cell_type": "markdown",
      "source": [
        "**Критерии оценивания:**\n",
        "- Задание выполнено верно, учтены все условия (**2 балла**):\n",
        "    * приведён код для нахождения параметров модели линейной регрессии с помощью матричной формулы МНК;\n",
        "    * на основе полученных параметров даны верные ответы на поставленные вопросы;\n",
        "    * приведена корректная интерпретация нескольких коэффициентов полученной модели линейной регрессии.\n",
        "\n",
        "- Задание выполнено верно, но не учтено одно из условий (**1 балл**).\n",
        "- Задание выполнено неверно, не учтено несколько условий (**0 баллов**)."
      ],
      "metadata": {
        "id": "QtNtTUzI4Cpq"
      },
      "id": "QtNtTUzI4Cpq"
    },
    {
      "cell_type": "code",
      "execution_count": 149,
      "id": "5724288c",
      "metadata": {
        "id": "5724288c",
        "colab": {
          "base_uri": "https://localhost:8080/"
        },
        "outputId": "3a11930a-da48-4df0-f36e-30dab082aa36"
      },
      "outputs": [
        {
          "output_type": "stream",
          "name": "stdout",
          "text": [
            "Коэффициенты линейной регрессии: [-1232     0   230   116  -365    25   -78   785]\n"
          ]
        }
      ],
      "source": [
        "# Матрица признаков X (с добавлением столбца единиц)\n",
        "X = data[[\"Well\", \"Por\", \"Perm\", \"AI\", \"Brittle\", \"TOC\", \"VR\"]].values\n",
        "X = np.hstack([np.ones((X.shape[0], 1)), X])  # Добавление столбца единиц\n",
        "\n",
        "# Вектор целевой переменной y\n",
        "y = data[\"Prod\"].values\n",
        "\n",
        "# Расчёт коэффициентов по формуле МНК\n",
        "coefficients = np.round(np.linalg.inv(X.T @ X) @ X.T @ y).astype(int)\n",
        "print(\"Коэффициенты линейной регрессии:\", coefficients)"
      ]
    },
    {
      "cell_type": "markdown",
      "id": "bab9ee21",
      "metadata": {
        "id": "bab9ee21"
      },
      "source": [
        "- Неинформативные признаки: Признак Well не оказывают значимого влияния на целевую переменную в рамках данной модели.\n",
        "\n",
        "- Por положительный и указывает на то, что увеличение проницаемости на единицу приводит к увеличению добычи газа на 230 единиц, при условии, что остальные факторы остаются неизменными.\n",
        "\n",
        "- Perm означает, что увеличение акустического импеданса на единицу связано с увеличением добычи газа на 116 единиц."
      ]
    },
    {
      "cell_type": "markdown",
      "id": "4a05a4ac",
      "metadata": {
        "id": "4a05a4ac"
      },
      "source": [
        "### Задание 5.3. (1 балл)\n",
        "\n",
        "Теперь потренируемся строить предсказание для наблюдений целевой переменной.\n",
        "\n",
        "**а)** Постройте прогноз выработки газа для скважины со следующими параметрами:\n",
        "\n",
        "```python\n",
        "{\n",
        "    'Well': 106.0,\n",
        "    'Por': 15.32,\n",
        "    'Perm': 3.71,\n",
        "    'AI': 3.29,\n",
        "    'Brittle': 55.99,\n",
        "    'TOC': 1.35,\n",
        "    'VR': 2.42\n",
        " }\n",
        "```\n",
        "\n",
        "Рассчитайте абсолютную ошибку построенного вами прогноза для предложенной скважины (в миллионах кубических футов в день), если известно, что на этой скважине производится `4748.315024` миллионов кубических футов газа в день.\n",
        "\n",
        "**б)** Постройте прогноз выработки газа для всех скважин из обучающего набора данных. Выберите метрику, по которой вы будете оценивать качество регрессионных моделей и сравнивать их между собой (можно использовать несколько метрик, но не более двух).\n",
        "\n",
        "Рассчитайте значение выбранной метрики для вашей модели. Приведите интерпретацию полученного результата."
      ]
    },
    {
      "cell_type": "markdown",
      "source": [
        "**Критерии оценивания:**\n",
        "- Задание выполнено верно, учтены все условия (**1 балл**):\n",
        "    * приведён код для построения прогноза выработки газа на указанной скважине и рассчитана абсолютная ошибка прогноза для этой скважины;\n",
        "    * выбрана корректная для поставленной задачи метрика (или метрики) оценки качества модели и приведён код для расчёта этой метрики на всём обучающем наборе данных;\n",
        "    * приведена корректная интерпретация полученного результата.\n",
        "\n",
        "- Задание выполнено верно, но не учтено одно из условий, или задание выполнено неверно (**0 баллов**)."
      ],
      "metadata": {
        "id": "qUDcep5Q5GWU"
      },
      "id": "qUDcep5Q5GWU"
    },
    {
      "cell_type": "code",
      "execution_count": 150,
      "id": "e4291db0",
      "metadata": {
        "id": "e4291db0",
        "colab": {
          "base_uri": "https://localhost:8080/"
        },
        "outputId": "b0ed683a-7447-40f2-ba6c-60b58aebe39c"
      },
      "outputs": [
        {
          "output_type": "stream",
          "name": "stdout",
          "text": [
            "Прогнозная добыча: 4715.26\n",
            "Абсолютная ошибка: 33.05502400000023\n"
          ]
        }
      ],
      "source": [
        "# а)\n",
        "# Параметры для скважины\n",
        "well_params = {\n",
        "    'w0': 1,\n",
        "    'Well': 106.0,\n",
        "    'Por': 15.32,\n",
        "    'Perm': 3.71,\n",
        "    'AI': 3.29,\n",
        "    'Brittle': 55.99,\n",
        "    'TOC': 1.35,\n",
        "    'VR': 2.42\n",
        "}\n",
        "\n",
        "well_params = np.array(list(well_params.values()))\n",
        "\n",
        "# Прогноз по формуле для линейной регрессии\n",
        "predicted_prod = (well_params@coefficients)\n",
        "# Истинное значение продукции для этой скважины\n",
        "true_prod = 4748.315024\n",
        "\n",
        "# Абсолютная ошибка\n",
        "absolute_error = abs(predicted_prod - true_prod)\n",
        "print('Прогнозная добыча:', predicted_prod)\n",
        "print('Абсолютная ошибка:', absolute_error)"
      ]
    },
    {
      "cell_type": "code",
      "source": [
        "# б)\n",
        "# Прогнозируемая продукция для всех скважин\n",
        "y_pred = X @ coefficients\n",
        "\n",
        "# Вектор целевой переменной y (продукция)\n",
        "y = data[\"Prod\"].values\n",
        "\n",
        "# Средняя абсолютная ошибка (MAE)\n",
        "MAE = round(np.mean(np.abs(y - y_pred)), 2)\n",
        "\n",
        "# Среднеквадратичная ошибка (MSE)\n",
        "MSE = round(np.mean((y - y_pred)**2), 2)\n",
        "\n",
        "print(f\"MAE: {MAE}\")\n",
        "print(f\"MSE: {MSE}\")"
      ],
      "metadata": {
        "colab": {
          "base_uri": "https://localhost:8080/"
        },
        "id": "gSGcN_MHORwP",
        "outputId": "fc904a8c-95ca-47cb-d519-030e733b9cfc"
      },
      "id": "gSGcN_MHORwP",
      "execution_count": 151,
      "outputs": [
        {
          "output_type": "stream",
          "name": "stdout",
          "text": [
            "MAE: 154.56\n",
            "MSE: 39384.74\n"
          ]
        }
      ]
    },
    {
      "cell_type": "markdown",
      "id": "c9bee4bc",
      "metadata": {
        "id": "c9bee4bc"
      },
      "source": [
        "- Средняя абсолютная ошибка (MAE) = 154.56\n",
        "\n",
        "   Это значение показывает, что в среднем предсказанная выработка газа отличается от фактической на 154.56 миллиона кубических футов в день.\n",
        "\n",
        "- Среднеквадратичная ошибка (MSE) = 39384.74\n",
        "\n",
        "   В данном случае значение MSE высокое (39384.74), что указывает на наличие значительных отклонений в некоторых прогнозах."
      ]
    },
    {
      "cell_type": "markdown",
      "id": "0c25c3aa",
      "metadata": {
        "id": "0c25c3aa"
      },
      "source": [
        "### Задание 5.4. (1 балл)\n",
        "\n",
        "Настало время анализа построенной модели. Посмотрите на коэффициенты и сравните их знаки со значениями выборочных корреляций между целевым признаком и факторами, которые вы нашли ранее.\n",
        "\n",
        "Дайте развёрнутые ответы на следующие вопросы:\n",
        "\n",
        "* Есть ли в вашей модели фактор, при котором коэффициент в модели линейной регрессии противоречит соответствующему коэффициенту корреляции? Например, корреляция говорит, что зависимость между фактором и целевой переменной прямая, а модель говорит обратное. Если таких факторов несколько, укажите их все.\n",
        "* Как вы считаете, с чем связано полученное противоречие результатов?"
      ]
    },
    {
      "cell_type": "markdown",
      "source": [
        "**Критерии оценивания:**\n",
        "\n",
        "- Задание выполнено верно, даны корректные развёрнутые ответы на все поставленные в задании вопросы (**1 балл**).\n",
        "\n",
        "- Задание выполнено неверно, даны некорректные ответы на один или несколько поставленных в задании вопросов (**0 баллов**)."
      ],
      "metadata": {
        "id": "ngJ3UdYb6Ll6"
      },
      "id": "ngJ3UdYb6Ll6"
    },
    {
      "cell_type": "code",
      "source": [
        "# Выведем еще раз корреляцию параметров с целевым признаком и коэффициенты.\n",
        "display(correlation_matrix.loc['Prod'])\n",
        "\n",
        "print(\"коэффициенты:\", coefficients)"
      ],
      "metadata": {
        "id": "v-zIxRPY9wK7",
        "colab": {
          "base_uri": "https://localhost:8080/",
          "height": 352
        },
        "outputId": "96fc9d87-0a3d-4ddc-c135-f8cc512f06d5"
      },
      "id": "v-zIxRPY9wK7",
      "execution_count": 152,
      "outputs": [
        {
          "output_type": "display_data",
          "data": {
            "text/plain": [
              "Well       0.026817\n",
              "Por        0.861910\n",
              "Perm       0.727426\n",
              "AI        -0.390835\n",
              "Brittle    0.237155\n",
              "TOC        0.654445\n",
              "VR         0.323182\n",
              "Prod       1.000000\n",
              "Name: Prod, dtype: float64"
            ],
            "text/html": [
              "<div>\n",
              "<style scoped>\n",
              "    .dataframe tbody tr th:only-of-type {\n",
              "        vertical-align: middle;\n",
              "    }\n",
              "\n",
              "    .dataframe tbody tr th {\n",
              "        vertical-align: top;\n",
              "    }\n",
              "\n",
              "    .dataframe thead th {\n",
              "        text-align: right;\n",
              "    }\n",
              "</style>\n",
              "<table border=\"1\" class=\"dataframe\">\n",
              "  <thead>\n",
              "    <tr style=\"text-align: right;\">\n",
              "      <th></th>\n",
              "      <th>Prod</th>\n",
              "    </tr>\n",
              "  </thead>\n",
              "  <tbody>\n",
              "    <tr>\n",
              "      <th>Well</th>\n",
              "      <td>0.026817</td>\n",
              "    </tr>\n",
              "    <tr>\n",
              "      <th>Por</th>\n",
              "      <td>0.861910</td>\n",
              "    </tr>\n",
              "    <tr>\n",
              "      <th>Perm</th>\n",
              "      <td>0.727426</td>\n",
              "    </tr>\n",
              "    <tr>\n",
              "      <th>AI</th>\n",
              "      <td>-0.390835</td>\n",
              "    </tr>\n",
              "    <tr>\n",
              "      <th>Brittle</th>\n",
              "      <td>0.237155</td>\n",
              "    </tr>\n",
              "    <tr>\n",
              "      <th>TOC</th>\n",
              "      <td>0.654445</td>\n",
              "    </tr>\n",
              "    <tr>\n",
              "      <th>VR</th>\n",
              "      <td>0.323182</td>\n",
              "    </tr>\n",
              "    <tr>\n",
              "      <th>Prod</th>\n",
              "      <td>1.000000</td>\n",
              "    </tr>\n",
              "  </tbody>\n",
              "</table>\n",
              "</div><br><label><b>dtype:</b> float64</label>"
            ]
          },
          "metadata": {}
        },
        {
          "output_type": "stream",
          "name": "stdout",
          "text": [
            "коэффициенты: [-1232     0   230   116  -365    25   -78   785]\n"
          ]
        }
      ]
    },
    {
      "cell_type": "markdown",
      "source": [
        "\n",
        "\n",
        "**Well:**\n",
        "\n",
        "- **Коэффициент:** 0.0\n",
        "- **Корреляция с Prod:** 0.026817\n",
        "- **Комментарий:** Поскольку коэффициент равен 0 и корреляция с целевой переменной очень низкая, можно заключить, что данный признак не оказывает значимого влияния на выработку газа (Prod).\n",
        "\n",
        "\n",
        "**Por (Пористость):**\n",
        "\n",
        "- **Коэффициент:** 230.0\n",
        "- **Корреляция с Prod:** 0.861910\n",
        "- **Комментарий:** Высокая положительная корреляция и значительный коэффициент модели указывают на то, что пористость сильно влияет на выработку газа. Это подтверждается как высокой корреляцией, так и сильным положительным коэффициентом.\n",
        "\n",
        "\n",
        "\n",
        "**Perm (Проницаемость):**\n",
        "\n",
        "- **Коэффициент:** 116.0\n",
        "- **Корреляция с Prod:** 0.727426\n",
        "- **Комментарий:** Умеренно высокая положительная корреляция и значительное влияние на выработку газа. Этот признак также является важным фактором в предсказании продукции.\n",
        "\n",
        "\n",
        "**AI (Индекс аномалий):**\n",
        "\n",
        "- **Коэффициент:** -365.0\n",
        "- **Корреляция с Prod:** -0.390835\n",
        "- **Комментарий:** Отрицательная корреляция и значительный отрицательный коэффициент модели указывают на обратную зависимость между AI и продуктивностью скважины. Это означает, что при увеличении индекса аномалий выработка газа, скорее всего, будет снижаться.\n",
        "\n",
        "\n",
        "**Brittle (Хрупкость):**\n",
        "\n",
        "- **Коэффициент:** 25.0\n",
        "- **Корреляция с Prod:** 0.237155\n",
        "- **Комментарий:** Слабая положительная корреляция и небольшой коэффициент показывают, что хрупкость оказывает минимальное влияние на выработку газа.\n",
        "\n",
        "\n",
        "\n",
        "**TOC (Содержание органического углерода):**\n",
        "\n",
        "- **Коэффициент:** -78.0\n",
        "- **Корреляция с Prod:** 0.654445\n",
        "- **Комментарий:** Несмотря на положительную корреляцию, отрицательный коэффициент может свидетельствовать о том, что с увеличением содержания органического углерода выработка газа может снижаться при прочих равных условиях. Это указывает на возможные сложные или неочевидные зависимости.\n",
        "\n",
        "\n",
        "\n",
        "**VR (Величина зрелости органического вещества):**\n",
        "\n",
        "- **Коэффициент:** 785.0\n",
        "- **Корреляция с Prod:** 0.323182\n",
        "- **Комментарий:** Положительная корреляция и высокий коэффициент модели показывают, что зрелость органического вещества влияет на выработку газа, хотя и в меньшей степени по сравнению с такими признаками, как пористость или проницаемость.\n",
        "\n",
        "\n",
        "\n",
        "### Вывод:\n",
        "\n",
        "- **Наиболее значимые факторы**, влияющие на продуктивность скважины (Prod), — это **Por (пористость)** и **Perm (проницаемость)**, которые имеют высокие положительные коэффициенты и корреляции с целевой переменной. Это свидетельствует о сильном влиянии этих факторов на выработку газа.\n",
        "- **AI (индекс аномалий)** оказывает **отрицательное влияние** на выработку газа, что подтверждается как отрицательной корреляцией, так и отрицательным коэффициентом.\n",
        "- **TOC (содержание органического углерода)** имеет **положительную корреляцию**, но **отрицательный коэффициент**, что указывает на возможные сложные взаимосвязи: при увеличении содержания органического углерода может наблюдаться снижение выработки газа.\n"
      ],
      "metadata": {
        "id": "qeowwIp99yBf"
      },
      "id": "qeowwIp99yBf"
    },
    {
      "cell_type": "markdown",
      "id": "9cea9195",
      "metadata": {
        "id": "9cea9195"
      },
      "source": [
        "### Задание 5.5. (2 балла)\n",
        "\n",
        "* Исключите из данных сильно коррелированные между собой факторы. Под сильной корреляцией в данной задаче будем понимать значения выше `0.7`.\n",
        "\n",
        "Выбирая, какой из коррелированных факторов оставить, руководствуйтесь коэффициентом корреляции с целевой переменной: оставляйте тот фактор, который больше всего коррелирует с целевой переменной (объёмом добычи газа).\n",
        "\n",
        "* Также исключите из данных факторы, для которых корреляция с целевой переменной меньше `0.05`.\n",
        "\n",
        "Постройте модель линейной регрессии на обновлённых после удаления факторов данных по методу наименьших квадратов. Для этого используйте матричную формулу и библиотеку numpy. Выведите значение полученных коэффициентов, округлённых до целого.\n",
        "\n",
        "Сделайте прогноз для всего обучающего набора данных и рассчитайте выбранную вами ранее метрику (или метрики).\n",
        "\n",
        "Дайте подробные ответы на следующие вопросы:\n",
        "\n",
        "* Приведите интерпретацию нескольких полученных коэффициентов (двух или трёх). Сравните их значения с полученными ранее.\n",
        "* Приведите интерпретацию полученных значений метрик. Сравните их значения с полученными ранее.\n",
        "* Удалось ли вам побороть противоречие коэффициентов линейной регрессии и коэффициентов корреляции?"
      ]
    },
    {
      "cell_type": "markdown",
      "source": [
        "**Критерии оценивания:**\n",
        "- Задание выполнено верно, учтены все условия (**2 балла**):\n",
        "    * отобраны верные факторы;\n",
        "    * на основе отобранных факторов построена модель линейной регрессии с помощью матричной формулы МНК и найдены параметры модели, соответствующие каждому из факторов;\n",
        "    * построен прогноз для всего обучающего набора данных и рассчитано значение метрики (метрика должна быть выбрана корректно);\n",
        "    * даны ответы на все поставленные в задании вопросы.\n",
        "\n",
        "- Задание выполнено верно, но не учтено одно из условий (**1 балл**).\n",
        "- Задание выполнено верно, не учтено несколько из условий (**0 баллов**)."
      ],
      "metadata": {
        "id": "vlUYVjJP6oXN"
      },
      "id": "vlUYVjJP6oXN"
    },
    {
      "cell_type": "code",
      "source": [
        "# Выведем корреляцию всех признаков с целевой переменной \"Prod\"\n",
        "print(\"Корреляции признаков с целевой переменной (Prod):\")\n",
        "print(correlation_matrix.loc['Prod'])\n",
        "print(\"\\n\")\n",
        "\n",
        "# Найдём сильно коррелированные пары\n",
        "threshold = 0.7\n",
        "high_corr_pairs = [(col1, col2) for col1 in correlation_matrix.columns for col2 in correlation_matrix.columns\n",
        "                   if col1 != col2 and abs(correlation_matrix[col1][col2]) > threshold]\n",
        "\n",
        "# Удалим из данных те признаки, которые имеют корреляцию выше 0.7\n",
        "# Для каждой пары выбираем тот фактор, который лучше коррелирует с целевой переменной \"Prod\"\n",
        "features_to_drop = []\n",
        "for col1, col2 in high_corr_pairs:\n",
        "    if abs(correlation_matrix[\"Prod\"][col1]) > abs(correlation_matrix[\"Prod\"][col2]):\n",
        "        features_to_drop.append(col2)\n",
        "    else:\n",
        "        features_to_drop.append(col1)\n",
        "\n",
        "# Удалим признаки с низкой корреляцией с целевой переменной (менее 0.05)\n",
        "low_corr_features = [col for col in data.columns if abs(correlation_matrix[\"Prod\"][col]) < 0.05]\n",
        "features_to_drop.extend(low_corr_features)\n",
        "\n",
        "# Оставляем в данных только те признаки, которые не удаляем\n",
        "remaining_features = [col for col in data.columns if col not in features_to_drop and col != \"Prod\"]\n",
        "\n",
        "# Выведем оставшиеся признаки\n",
        "print(\"Оставшиеся признаки после удаления сильно коррелированных и слабо коррелированных:\")\n",
        "print(remaining_features)\n",
        "\n",
        "# Теперь выведем корреляции оставшихся признаков с целевой переменной \"Prod\"\n",
        "print(\"\\nКорреляции оставшихся признаков с целевой переменной (Prod):\")\n",
        "print(correlation_matrix.loc['Prod', remaining_features])\n",
        "\n",
        "# Матрица признаков X (с добавлением столбца единиц)\n",
        "X_new = data[remaining_features].values\n",
        "X_new = np.hstack([np.ones((X_new.shape[0], 1)), X_new])  # Добавление столбца единиц\n",
        "\n",
        "# Расчёт коэффициентов по формуле МНК\n",
        "coefficients_new = np.round(np.linalg.inv(X_new.T @ X_new) @ X_new.T @ y).astype(int)\n",
        "print(\"\\nКоэффициенты линейной регрессии после обновления данных:\", coefficients_new)\n",
        "\n",
        "# Прогноз для всех скважин\n",
        "y_pred_new = X_new @ coefficients_new\n",
        "\n",
        "# Средняя абсолютная ошибка (MAE)\n",
        "mae_new = np.mean(np.abs(y_pred_new - y))\n",
        "\n",
        "# Среднеквадратичная ошибка (MSE)\n",
        "mse_new = np.mean((y_pred_new - y) ** 2)\n",
        "\n",
        "print(f\"\\nСредняя абсолютная ошибка (MAE): {mae_new}\")\n",
        "print(f\"Среднеквадратичная ошибка (MSE): {mse_new}\")"
      ],
      "metadata": {
        "id": "5d5ZJ0lX_UHe",
        "colab": {
          "base_uri": "https://localhost:8080/"
        },
        "outputId": "d5496b6b-13a5-48d7-fd72-3bf9a94c3b8d"
      },
      "id": "5d5ZJ0lX_UHe",
      "execution_count": 153,
      "outputs": [
        {
          "output_type": "stream",
          "name": "stdout",
          "text": [
            "Корреляции признаков с целевой переменной (Prod):\n",
            "Well       0.026817\n",
            "Por        0.861910\n",
            "Perm       0.727426\n",
            "AI        -0.390835\n",
            "Brittle    0.237155\n",
            "TOC        0.654445\n",
            "VR         0.323182\n",
            "Prod       1.000000\n",
            "Name: Prod, dtype: float64\n",
            "\n",
            "\n",
            "Оставшиеся признаки после удаления сильно коррелированных и слабо коррелированных:\n",
            "['AI', 'Brittle', 'VR']\n",
            "\n",
            "Корреляции оставшихся признаков с целевой переменной (Prod):\n",
            "AI        -0.390835\n",
            "Brittle    0.237155\n",
            "VR         0.323182\n",
            "Name: Prod, dtype: float64\n",
            "\n",
            "Коэффициенты линейной регрессии после обновления данных: [ 3486 -1278     9  2137]\n",
            "\n",
            "Средняя абсолютная ошибка (MAE): 544.4032280499999\n",
            "Среднеквадратичная ошибка (MSE): 465934.59092047065\n"
          ]
        }
      ]
    },
    {
      "cell_type": "markdown",
      "source": [
        "После исключения сильно коррелированных и неинформативных признаков, модель остаётся с более простыми и менее многозначными факторами.\n",
        "\n",
        "Несмотря на то что модель с оставшимися признаками показала несколько большие ошибки (MAE и MSE), это может быть связано с потерей информации, которая ранее содержалась в исключённых признаках."
      ],
      "metadata": {
        "id": "KxbYvMDo_WLe"
      },
      "id": "KxbYvMDo_WLe"
    },
    {
      "cell_type": "markdown",
      "id": "7d50db12",
      "metadata": {
        "id": "7d50db12"
      },
      "source": [
        "### Задание 5.6. (1 балл)\n",
        "\n",
        "Наконец, давайте построим модель линейной регрессии из библиотеки `scikit-learn (sklearn)` и сравним результаты её работы с теми, что нам удалось получить вручную.\n",
        "\n",
        "Постройте модель линейной регрессии на обновлённых после удаления факторов данных по методу наименьших квадратов. Для этого воспользуйтесь классом `LinearRegression` из библиотеки `sklearn`. Выведите значения полученных коэффициентов, округлённые до целого.\n",
        "\n",
        "Сделайте прогноз для всего обучающего набора данных и рассчитайте значение выбранной вами метрики (или метрик).\n",
        "\n",
        "Сравните результаты библиотечной реализации с тем, что вы получили ранее."
      ]
    },
    {
      "cell_type": "markdown",
      "source": [
        "**Критерии оценивания:**\n",
        "\n",
        "- Задание выполнено верно, учтены все условия (**1 балл**):\n",
        "    * на основе отобранных факторов построена модель линейной регрессии из библиотеки sklearn и найдены параметры модели, соответствующие каждому из факторов;\n",
        "    * построен прогноз для всего обучающего набора данных и рассчитано значение метрики (метрика должна быть выбрана корректно);\n",
        "    * приведён вывод о соответствии результатов, полученных вручную и с помощью библиотеки.\n",
        "- Задание выполнено неверно, не учтено одно или несколько условий (**0 баллов**)."
      ],
      "metadata": {
        "id": "emu5D3w278JP"
      },
      "id": "emu5D3w278JP"
    },
    {
      "cell_type": "code",
      "source": [
        "from sklearn.linear_model import LinearRegression\n",
        "from sklearn.metrics import mean_absolute_error, mean_squared_error\n",
        "\n",
        "# Создаём модель линейной регрессии\n",
        "model_sklearn = LinearRegression()\n",
        "\n",
        "# Обучаем модель\n",
        "model_sklearn.fit(X_new, y)\n",
        "\n",
        "# Коэффициенты модели\n",
        "coefficients_sklearn = model_sklearn.coef_\n",
        "\n",
        "# Прогноз для всех скважин\n",
        "y_pred_sklearn = model_sklearn.predict(X_new)\n",
        "\n",
        "# Средняя абсолютная ошибка (MAE)\n",
        "mae_sklearn = mean_absolute_error(y, y_pred_sklearn)\n",
        "\n",
        "# Среднеквадратичная ошибка (MSE)\n",
        "mse_sklearn = mean_squared_error(y, y_pred_sklearn)\n",
        "\n",
        "# Выводим результаты\n",
        "print(\"Коэффициенты линейной регрессии:\", coefficients_new)\n",
        "print(f\"Коэффициенты линейной регрессии из sklearn: {coefficients_sklearn}\")\n",
        "print(f\"Средняя абсолютная ошибка (MAE): {mae_new}\")\n",
        "print(f\"Средняя абсолютная ошибка (MAE) из sklearn: {mae_sklearn}\")\n",
        "print(f\"Среднеквадратичная ошибка (MSE): {mse_new}\")\n",
        "print(f\"Среднеквадратичная ошибка (MSE) из sklearn: {mse_sklearn}\")"
      ],
      "metadata": {
        "id": "Gpdpfq59AKGu",
        "colab": {
          "base_uri": "https://localhost:8080/"
        },
        "outputId": "729c974f-3b05-4edf-aeef-87fb217a8e41"
      },
      "id": "Gpdpfq59AKGu",
      "execution_count": 154,
      "outputs": [
        {
          "output_type": "stream",
          "name": "stdout",
          "text": [
            "Коэффициенты линейной регрессии: [ 3486 -1278     9  2137]\n",
            "Коэффициенты линейной регрессии из sklearn: [    0.         -1277.85770781     8.72458733  2137.42188106]\n",
            "Средняя абсолютная ошибка (MAE): 544.4032280499999\n",
            "Средняя абсолютная ошибка (MAE) из sklearn: 543.5487392655067\n",
            "Среднеквадратичная ошибка (MSE): 465934.59092047065\n",
            "Среднеквадратичная ошибка (MSE) из sklearn: 465781.66765982343\n"
          ]
        }
      ]
    },
    {
      "cell_type": "markdown",
      "source": [
        "Результаты модели из sklearn и вручную вычисленной модели почти идентичны, с незначительными различиями в коэффициентах и ошибках. Обе модели демонстрируют схожее качество предсказаний, что подтверждается почти одинаковыми значениями MAE и MSE."
      ],
      "metadata": {
        "id": "WT9cdHAbAMG7"
      },
      "id": "WT9cdHAbAMG7"
    },
    {
      "cell_type": "markdown",
      "id": "5346338e",
      "metadata": {
        "id": "5346338e"
      },
      "source": [
        "## Практика: полиномиальная регрессия и регуляризация"
      ]
    },
    {
      "cell_type": "markdown",
      "id": "aad9e3a6",
      "metadata": {
        "id": "aad9e3a6"
      },
      "source": [
        "Мы продолжаем работать над задачей от владельца компании «Газ-Таз-Ваз-Нефть» Василия.\n",
        "\n",
        "Ранее мы построили модель линейной регрессии, которая прогнозирует выработку газа на скважине. Для этого мы с помощью матрицы корреляций и рассуждений отобрали некоррелированные, значимые для предсказания признаки. **Далее мы будем использовать именно их (см. задание 5.5).**\n",
        "\n",
        "Мы хотим улучшить результат — уменьшить ошибку прогноза. Для этого мы воспользуемся моделью полиномиальной регрессии третьей степени. Однако теперь мы знаем, что полиномиальным моделям очень легко переобучиться под исходную выборку. Так как данных у нас не так много (всего 200 скважин), то для контроля качества модели мы будем использовать кросс-валидацию.\n",
        "\n",
        "Приступим! Выполните задания 8.1–8.5:\n"
      ]
    },
    {
      "cell_type": "code",
      "execution_count": 155,
      "id": "18506d1b",
      "metadata": {
        "id": "18506d1b"
      },
      "outputs": [],
      "source": [
        "from sklearn.preprocessing import PolynomialFeatures, StandardScaler\n",
        "from sklearn.linear_model import LinearRegression, Lasso, Ridge, ElasticNet\n",
        "from sklearn.model_selection import GridSearchCV\n",
        "from sklearn.model_selection import cross_validate"
      ]
    },
    {
      "cell_type": "markdown",
      "id": "bfbfea8d",
      "metadata": {
        "id": "bfbfea8d"
      },
      "source": [
        "### Задание 8.1. (1 балл)\n",
        "\n",
        "Стандаризируйте признаки с помощью `StandartScaler` из библиотеки `sklearn`.\n",
        "\n",
        "Затем сгенерируйте полиномиальные признаки третьего порядка на факторах, которые вы выбрали для обучения моделей. Для этого воспользуйтесь генератором полиномов `PolynomialFeatures` из библиотеки `sklearn`. Параметр `include_bias` установите в значение `False`.\n",
        "\n",
        "Выведите на экран, сколько факторов у вас получилось после генерации полиномиальных признаков.\n",
        "\n",
        "**Важно:** стандартизацию необходимо произвести до генерации полиномиальных факторов!\n",
        "\n",
        "Обучите модель линейной регрессии из библиотеки `sklearn` (`LinearRegression`) на полученных полиномиальных факторах.\n",
        "\n",
        "Используя кросс-валидацию оцените среднее значение выбранной вами метрики (или метрик) на тренировочных и валидационных фолдах.\n",
        "\n",
        "Проинтерпретируйте полученные результаты."
      ]
    },
    {
      "cell_type": "markdown",
      "source": [
        "**Критерии оценивания:**\n",
        "\n",
        "- Задание выполнено верно, учтены все условия (**1 балл**):\n",
        "    * на основе отобранных факторов сгенерированы полиномиальные признаки третьего порядка;\n",
        "    * построена модель полиномиальной регрессии (линейной регрессии на полиномиальных признаках);\n",
        "    * с помощью кросс-валидации оценено среднее значение выбранной студентом метрики (или метрик) на тренировочных и валидационных фолдах (метрика должна быть выбрана корректно).\n",
        "- Задание выполнено неверно, не учтено одно или несколько из условий (**0 баллов**)."
      ],
      "metadata": {
        "id": "Y8oAhQkr8gV-"
      },
      "id": "Y8oAhQkr8gV-"
    },
    {
      "cell_type": "code",
      "source": [
        "# Стандартизируем данные\n",
        "scaler = StandardScaler()\n",
        "X_scaled = scaler.fit_transform(X_new)\n",
        "\n",
        "# Генерация полиномиальных признаков третьей степени\n",
        "poly = PolynomialFeatures(degree=3, include_bias=False)\n",
        "X_poly = poly.fit_transform(X_scaled)\n",
        "\n",
        "# Выводим количество факторов после генерации полиномиальных признаков\n",
        "print(f'Количество получившихся факторов = {X_poly.shape[1]}')\n",
        "\n",
        "# Инициализация модели линейной регрессии\n",
        "model = LinearRegression(fit_intercept=True)\n",
        "\n",
        "# Выполняем кросс-валидацию по метрикам MAE и MSE\n",
        "lr_poly_mae = cross_validate(model, X_poly, y_updated_sklearn, scoring='neg_mean_absolute_error', cv=5, return_train_score=True)\n",
        "lr_poly_mse = cross_validate(model, X_poly, y_updated_sklearn, scoring='neg_mean_squared_error', cv=5, return_train_score=True)\n",
        "\n",
        "# Выводим результаты\n",
        "print('MAE на тренировочных фолдах: {:.2f}'.format(-lr_poly_mae['train_score'].mean()))\n",
        "print('MAE на валидационных фолдах: {:.2f}'.format(-lr_poly_mae['test_score'].mean()))\n",
        "print('MSE на тренировочных фолдах: {:.2f}'.format(-lr_poly_mse['train_score'].mean()))\n",
        "print('MSE на валидационных фолдах: {:.2f}'.format(-lr_poly_mse['test_score'].mean()))"
      ],
      "metadata": {
        "id": "-ln3bx8NFNRw",
        "colab": {
          "base_uri": "https://localhost:8080/"
        },
        "outputId": "8c8e4315-83cf-4f7e-9481-ee7df3bd4b28"
      },
      "id": "-ln3bx8NFNRw",
      "execution_count": 156,
      "outputs": [
        {
          "output_type": "stream",
          "name": "stdout",
          "text": [
            "Количество получившихся факторов = 34\n",
            "MAE на тренировочных фолдах: 484.69\n",
            "MAE на валидационных фолдах: 571.73\n",
            "MSE на тренировочных фолдах: 379123.16\n",
            "MSE на валидационных фолдах: 528466.46\n"
          ]
        }
      ]
    },
    {
      "cell_type": "markdown",
      "source": [
        "Модель примерно одинакова"
      ],
      "metadata": {
        "id": "9DkuuLLtFPPy"
      },
      "id": "9DkuuLLtFPPy"
    },
    {
      "cell_type": "markdown",
      "id": "63d06013",
      "metadata": {
        "id": "63d06013"
      },
      "source": [
        "### Задание 8.2. (2 балла)\n",
        "\n",
        "Теперь попробуем воспользоваться линейной регрессией с регуляризацией. Для начала возьмём $L_1$-регуляризацию.\n",
        "\n",
        "Обучите модель `Lasso` из библиотеки `sklearn` на полученных полиномиальных факторах, предварительно стандартизировав факторы.\n",
        "\n",
        "Коэффициент регуляризации (`alpha`) подберите самостоятельно с помощью любого известного вам метода подбора гиперпаметров.\n",
        "\n",
        "Используя кросс-валидацию, оцените среднее значение выбранной вами метрики (или метрик) на тренировочных и валидационных фолдах.\n",
        "\n",
        "Проинтерпретируйте полученные результаты."
      ]
    },
    {
      "cell_type": "markdown",
      "source": [
        "**Критерии оценивания:**\n",
        "\n",
        "- Задание выполнено верно, учтены все условия (**2 балла**):\n",
        "    * правильно построена модель полиномиальной регрессии (линейной регрессии на полиномиальных признаках) с регуляризацией (Lasso), учтены условия необходимости масштабирования факторов для построения модели;\n",
        "    * приведён код для подбора параметра регуляризации (вручную или с помощью библиотечных инструментов);\n",
        "    * с помощью кросс-валидации оценено среднее значение выбранной студентом метрики (или метрик) на тренировочных и валидационных фолдах (метрика должна быть выбрана корректно).\n",
        "\n",
        "- Задание выполнено верно, но не учтено одно из условий (**1 балл**).\n",
        "- Задание выполнено неверно, не учтено несколько условий (**0 баллов**)."
      ],
      "metadata": {
        "id": "z24YUfuA9rUq"
      },
      "id": "z24YUfuA9rUq"
    },
    {
      "cell_type": "code",
      "source": [
        "# Подбор гиперпараметра alpha с помощью GridSearchCV\n",
        "param_grid = {'alpha': [0.01, 0.1, 1, 10, 100]}\n",
        "lasso = Lasso()\n",
        "\n",
        "# Выполним GridSearchCV для подбора лучшего alpha\n",
        "grid_search = GridSearchCV(lasso, param_grid, cv=5)\n",
        "grid_search.fit(X_poly, y)\n",
        "\n",
        "# Лучший коэффициент alpha\n",
        "best_alpha = grid_search.best_params_['alpha']\n",
        "print(f\"Лучший коэффициент alpha: {best_alpha}\")\n",
        "\n",
        "# Обучаем модель Lasso с найденным лучшим alpha\n",
        "lasso_best = Lasso(alpha=best_alpha)\n",
        "lasso_best.fit(X_poly, y)\n",
        "\n",
        "# Прогноз на полиномиальных признаках\n",
        "y_pred_lasso = lasso_best.predict(X_poly)\n",
        "\n",
        "# Средняя абсолютная ошибка (MAE)\n",
        "mae_lasso = mean_absolute_error(y, y_pred_lasso)\n",
        "\n",
        "# Среднеквадратичная ошибка (MSE)\n",
        "mse_lasso = mean_squared_error(y, y_pred_lasso)\n",
        "\n",
        "# Кросс-валидация для оценки модели\n",
        "cv_results_lasso = cross_validate(lasso_best, X_poly, y, cv=5, scoring='neg_mean_absolute_error', return_train_score=True)\n",
        "\n",
        "# Кросс-валидация для MSE\n",
        "cv_results_lasso_mse = cross_validate(lasso_best, X_poly, y, cv=5, scoring='neg_mean_squared_error', return_train_score=True)\n",
        "\n",
        "# print(f\"Средняя абсолютная ошибка (MAE) из Lasso: {mae_lasso}\")\n",
        "# print(f\"Среднеквадратичная ошибка (MSE) из Lasso: {mse_lasso}\")\n",
        "\n",
        "# Средние ошибки на тренировочных и валидационных фолдах для MAE\n",
        "print(f\"MAE на тренировочных фолдах: {-cv_results_lasso['train_score'].mean()}\")\n",
        "print(f\"MAE на валидационных фолдах: {-cv_results_lasso['test_score'].mean()}\")\n",
        "\n",
        "# Средние ошибки на тренировочных и валидационных фолдах для MSE\n",
        "print(f\"MSE на тренировочных фолдах: {-cv_results_lasso_mse['train_score'].mean()}\")\n",
        "print(f\"MSE на валидационных фолдах: {-cv_results_lasso_mse['test_score'].mean()}\")"
      ],
      "metadata": {
        "id": "IJ5b5G8qFz-r",
        "colab": {
          "base_uri": "https://localhost:8080/"
        },
        "outputId": "c961387e-e245-41e6-cb8f-c4b1eceb056a"
      },
      "id": "IJ5b5G8qFz-r",
      "execution_count": 157,
      "outputs": [
        {
          "output_type": "stream",
          "name": "stdout",
          "text": [
            "Лучший коэффициент alpha: 10\n",
            "MAE на тренировочных фолдах: 485.922899651858\n",
            "MAE на валидационных фолдах: 557.1940511910907\n",
            "MSE на тренировочных фолдах: 385832.2136178721\n",
            "MSE на валидационных фолдах: 516359.25010297017\n"
          ]
        }
      ]
    },
    {
      "cell_type": "markdown",
      "source": [
        "Полиномиальная регрессия показывает хорошие результаты на тренировочных данных, но сильно переобучается.\n",
        "\n",
        "Модель Lasso с регуляризацией демонстрирует лучший результат на валидационных данных, что говорит о её способности к лучшему обобщению и предотвращению переобучения."
      ],
      "metadata": {
        "id": "Se0OGR8UF2Td"
      },
      "id": "Se0OGR8UF2Td"
    },
    {
      "cell_type": "markdown",
      "id": "2975ae60",
      "metadata": {
        "id": "2975ae60"
      },
      "source": [
        "### Задание 8.3. (2 балла)\n",
        "\n",
        "Проделаем то же самое с $L_2$-регуляризацией.\n",
        "\n",
        "Обучите модель `Ridge` из библиотеки `sklearn` на полученных полиномиальных факторах, предварительно стандартизировав факторы.\n",
        "\n",
        "Коэффициент регуляризации (`alpha`) подберите самостоятельно с помощью любого известного вам метода подбора гиперпаметров.\n",
        "\n",
        "Используя кросс-валидацию оцените среднее значение выбранной вами метрики (или метрик) на тренировочных и валидационных фолдах.\n",
        "\n",
        "Проинтерпретируйте полученные результаты."
      ]
    },
    {
      "cell_type": "code",
      "source": [
        "# Подбор гиперпараметра alpha для Ridge (L2 регуляризация)\n",
        "param_grid = {'alpha': [0.01, 0.1, 1, 10, 100]}\n",
        "ridge = Ridge()\n",
        "grid_search = GridSearchCV(ridge, param_grid, cv=5)\n",
        "grid_search.fit(X_poly, y)\n",
        "alpha_ridge = grid_search.best_params_['alpha']\n",
        "print(f\"Лучший коэффициент alpha для Ridge: {alpha_ridge}\")\n",
        "\n",
        "# Обучение модели с оптимальным коэффициентом alpha\n",
        "ridge_best = Ridge(alpha=alpha_ridge)\n",
        "cv_results = cross_validate(ridge_best, X_poly, y, scoring='neg_mean_absolute_percentage_error', cv=5, return_train_score=True)\n",
        "\n",
        "# Результаты\n",
        "print(f\"MAE на тренировочных фолдах: {-cv_results['train_score'].mean()}\")\n",
        "print(f\"MAE на валидационных фолдах: {-cv_results['test_score'].mean()}\")\n",
        "\n",
        "# Теперь добавим расчет MSE\n",
        "mse_results = cross_validate(ridge_best, X_poly, y, scoring='neg_mean_squared_error', cv=5, return_train_score=True)\n",
        "\n",
        "# Результаты MSE\n",
        "print(f\"MSE на тренировочных фолдах: {-mse_results['train_score'].mean()}\")\n",
        "print(f\"MSE на валидационных фолдах: {-mse_results['test_score'].mean()}\")"
      ],
      "metadata": {
        "id": "UfPGyNsjGGS8",
        "colab": {
          "base_uri": "https://localhost:8080/"
        },
        "outputId": "cfc78780-7598-4460-8161-3922512c7cd8"
      },
      "id": "UfPGyNsjGGS8",
      "execution_count": 158,
      "outputs": [
        {
          "output_type": "stream",
          "name": "stdout",
          "text": [
            "Лучший коэффициент alpha для Ridge: 0.1\n",
            "MAE на тренировочных фолдах: 0.1202947131746384\n",
            "MAE на валидационных фолдах: 0.14267301596538137\n",
            "MSE на тренировочных фолдах: 379130.55951120175\n",
            "MSE на валидационных фолдах: 528529.6845871031\n"
          ]
        }
      ]
    },
    {
      "cell_type": "markdown",
      "source": [
        "Модель с **L2-регуляризацией (Ridge)** показала отличные результаты на тренировочных данных (низкие MAE и MSE), что указывает на хорошую подгонку. Однако на валидационных данных ошибки значительно возросли (MAE и MSE значительно выше), что свидетельствует о **переобучении**. Модель слишком хорошо подстроилась под обучающие данные и не смогла обобщить на новые данные. Требуется дополнительная настройка регуляризации для улучшения обобщающей способности модели."
      ],
      "metadata": {
        "id": "dQBd7ny_GIi1"
      },
      "id": "dQBd7ny_GIi1"
    },
    {
      "cell_type": "markdown",
      "source": [
        "**Критерии оценивания:**\n",
        "\n",
        "- Задание выполнено верно, учтены все условия (**2 балла**):\n",
        "    * правильно построена модель полиномиальной регрессии (линейной регрессии на полиномиальных признаках) с регуляризацией (Ridge), учтены условия необходимости масштабирования факторов для построения модели;\n",
        "    * приведён код для подбора параметра регуляризации (вручную или с помощью библиотечных инструментов);\n",
        "    * с помощью кросс-валидации оценено среднее значение выбранной студентом метрики (или метрик) на тренировочных и валидационных фолдах (метрика должна быть выбрана корректно).\n",
        "\n",
        "- Задание выполнено верно, но не учтено одно из условий (**1 балл**).\n",
        "- Задание выполнено неверно, не учтено несколько условий (**0 баллов**)."
      ],
      "metadata": {
        "id": "86pXnWE7-5ch"
      },
      "id": "86pXnWE7-5ch"
    },
    {
      "cell_type": "markdown",
      "id": "7ad85b78",
      "metadata": {
        "id": "7ad85b78"
      },
      "source": [
        "### Задание 8.4. (2 балла)\n",
        "\n",
        "Наконец, настало время комбинировать $L_1$ и $L_2$ -регуляризации.\n",
        "\n",
        "Обучите модель `ElasticNet` из библиотеки `sklearn` на полученных полиномиальных факторах, предварительно стандартизировав факторы.\n",
        "\n",
        "Коэффициенты регуляризации (`alpha` и `l1-ratio`) подберите самостоятельно с помощью любого известного вам метода подбора гиперпаметров.\n",
        "\n",
        "Используя кросс-валидацию, оцените среднее значение метрики MAPE на тренировочных и валидационных фолдах.\n",
        "\n",
        "Проинтерпретируйте полученные результаты."
      ]
    },
    {
      "cell_type": "markdown",
      "source": [
        "**Критерии оценивания:**\n",
        "\n",
        "- Задание выполнено верно, учтены все условия (**2 балла**):\n",
        "    * правильно построена модель полиномиальной регрессии (линейной регрессии на полиномиальных признаках) с регуляризацией (ElasticNet), учтены условия необходимости масштабирования факторов для построения модели;\n",
        "    * приведён код для подбора параметра регуляризации (вручную или с помощью библиотечных инструментов);\n",
        "    * с помощью кросс-валидации оценено среднее значение выбранной студентом метрики (или метрик) на тренировочных и валидационных фолдах (метрика должна быть выбрана корректно).\n",
        "\n",
        "- Задание выполнено верно, но не учтено одно из условий (**1 балл**).\n",
        "- Задание выполнено неверно, не учтено несколько условий (**0 баллов**)."
      ],
      "metadata": {
        "id": "sy8ESceQ-__u"
      },
      "id": "sy8ESceQ-__u"
    },
    {
      "cell_type": "code",
      "source": [
        "# Подбор гиперпараметров alpha и l1_ratio с помощью GridSearchCV\n",
        "param_grid = {\n",
        "    'alpha': [0.01, 0.1, 1, 10, 100],\n",
        "    'l1_ratio': [0, 1, 2, 3, 4, 5, 6, 7, 8, 9, 10]\n",
        "}\n",
        "elasticnet = ElasticNet()\n",
        "\n",
        "# Выполним GridSearchCV для подбора лучших гиперпараметров\n",
        "grid_search = GridSearchCV(elasticnet, param_grid, cv=5, scoring='neg_mean_absolute_error')\n",
        "grid_search.fit(X_poly, y)\n",
        "\n",
        "# Лучшие гиперпараметры\n",
        "best_alpha = grid_search.best_params_['alpha']\n",
        "best_l1_ratio = grid_search.best_params_['l1_ratio']\n",
        "print(f\"Лучшие гиперпараметры - alpha: {best_alpha}, l1_ratio: {best_l1_ratio}\")\n",
        "\n",
        "# Обучаем модель ElasticNet с найденными оптимальными параметрами\n",
        "elasticnet_best = ElasticNet(alpha=best_alpha, l1_ratio=best_l1_ratio)\n",
        "elasticnet_best.fit(X_poly, y)\n",
        "\n",
        "# Кросс-валидация для оценки модели с использованием MAE и MSE\n",
        "cv_results_elasticnet = cross_validate(elasticnet_best, X_poly, y, cv=5, scoring='neg_mean_absolute_error', return_train_score=True)\n",
        "\n",
        "# Средние ошибки на тренировочных и валидационных фолдах\n",
        "print(f\"MAE на тренировочных фолдах: {-cv_results_elasticnet['train_score'].mean()}\")\n",
        "print(f\"MAE на валидационных фолдах: {-cv_results_elasticnet['test_score'].mean()}\")\n",
        "\n",
        "# Среднеквадратичная ошибка (MSE) на тренировочных и валидационных фолдах\n",
        "mse_train_e = mean_squared_error(y, elasticnet_best.predict(X_poly))  # на тренировочной выборке\n",
        "mse_test_e = mean_squared_error(y, elasticnet_best.predict(X_poly))   # на валидационной выборке\n",
        "\n",
        "print(f\"MSE на тренировочных фолдах: {mse_train_e}\")\n",
        "print(f\"MSE на валидационных фолдах: {mse_test_e}\")"
      ],
      "metadata": {
        "id": "-Yi3P20hQnLS",
        "colab": {
          "base_uri": "https://localhost:8080/"
        },
        "outputId": "9313143e-0a2d-4bb2-b9e0-263b972878a5"
      },
      "id": "-Yi3P20hQnLS",
      "execution_count": 159,
      "outputs": [
        {
          "output_type": "stream",
          "name": "stderr",
          "text": [
            "/usr/local/lib/python3.10/dist-packages/sklearn/linear_model/_coordinate_descent.py:697: ConvergenceWarning: Objective did not converge. You might want to increase the number of iterations, check the scale of the features or consider increasing regularisation. Duality gap: 3.311e+07, tolerance: 1.612e+04 Linear regression models with null weight for the l1 regularization term are more efficiently fitted using one of the solvers implemented in sklearn.linear_model.Ridge/RidgeCV instead.\n",
            "  model = cd_fast.enet_coordinate_descent(\n",
            "/usr/local/lib/python3.10/dist-packages/sklearn/linear_model/_coordinate_descent.py:697: ConvergenceWarning: Objective did not converge. You might want to increase the number of iterations, check the scale of the features or consider increasing regularisation. Duality gap: 3.129e+07, tolerance: 1.545e+04 Linear regression models with null weight for the l1 regularization term are more efficiently fitted using one of the solvers implemented in sklearn.linear_model.Ridge/RidgeCV instead.\n",
            "  model = cd_fast.enet_coordinate_descent(\n",
            "/usr/local/lib/python3.10/dist-packages/sklearn/linear_model/_coordinate_descent.py:697: ConvergenceWarning: Objective did not converge. You might want to increase the number of iterations, check the scale of the features or consider increasing regularisation. Duality gap: 3.206e+07, tolerance: 1.617e+04 Linear regression models with null weight for the l1 regularization term are more efficiently fitted using one of the solvers implemented in sklearn.linear_model.Ridge/RidgeCV instead.\n",
            "  model = cd_fast.enet_coordinate_descent(\n",
            "/usr/local/lib/python3.10/dist-packages/sklearn/linear_model/_coordinate_descent.py:697: ConvergenceWarning: Objective did not converge. You might want to increase the number of iterations, check the scale of the features or consider increasing regularisation. Duality gap: 3.179e+07, tolerance: 1.582e+04 Linear regression models with null weight for the l1 regularization term are more efficiently fitted using one of the solvers implemented in sklearn.linear_model.Ridge/RidgeCV instead.\n",
            "  model = cd_fast.enet_coordinate_descent(\n",
            "/usr/local/lib/python3.10/dist-packages/sklearn/linear_model/_coordinate_descent.py:697: ConvergenceWarning: Objective did not converge. You might want to increase the number of iterations, check the scale of the features or consider increasing regularisation. Duality gap: 2.931e+07, tolerance: 1.474e+04 Linear regression models with null weight for the l1 regularization term are more efficiently fitted using one of the solvers implemented in sklearn.linear_model.Ridge/RidgeCV instead.\n",
            "  model = cd_fast.enet_coordinate_descent(\n",
            "/usr/local/lib/python3.10/dist-packages/sklearn/linear_model/_coordinate_descent.py:697: ConvergenceWarning: Objective did not converge. You might want to increase the number of iterations, check the scale of the features or consider increasing regularisation. Duality gap: 3.920e+07, tolerance: 1.612e+04 Linear regression models with null weight for the l1 regularization term are more efficiently fitted using one of the solvers implemented in sklearn.linear_model.Ridge/RidgeCV instead.\n",
            "  model = cd_fast.enet_coordinate_descent(\n",
            "/usr/local/lib/python3.10/dist-packages/sklearn/linear_model/_coordinate_descent.py:697: ConvergenceWarning: Objective did not converge. You might want to increase the number of iterations, check the scale of the features or consider increasing regularisation. Duality gap: 3.709e+07, tolerance: 1.545e+04 Linear regression models with null weight for the l1 regularization term are more efficiently fitted using one of the solvers implemented in sklearn.linear_model.Ridge/RidgeCV instead.\n",
            "  model = cd_fast.enet_coordinate_descent(\n",
            "/usr/local/lib/python3.10/dist-packages/sklearn/linear_model/_coordinate_descent.py:697: ConvergenceWarning: Objective did not converge. You might want to increase the number of iterations, check the scale of the features or consider increasing regularisation. Duality gap: 3.786e+07, tolerance: 1.617e+04 Linear regression models with null weight for the l1 regularization term are more efficiently fitted using one of the solvers implemented in sklearn.linear_model.Ridge/RidgeCV instead.\n",
            "  model = cd_fast.enet_coordinate_descent(\n",
            "/usr/local/lib/python3.10/dist-packages/sklearn/linear_model/_coordinate_descent.py:697: ConvergenceWarning: Objective did not converge. You might want to increase the number of iterations, check the scale of the features or consider increasing regularisation. Duality gap: 3.832e+07, tolerance: 1.582e+04 Linear regression models with null weight for the l1 regularization term are more efficiently fitted using one of the solvers implemented in sklearn.linear_model.Ridge/RidgeCV instead.\n",
            "  model = cd_fast.enet_coordinate_descent(\n",
            "/usr/local/lib/python3.10/dist-packages/sklearn/linear_model/_coordinate_descent.py:697: ConvergenceWarning: Objective did not converge. You might want to increase the number of iterations, check the scale of the features or consider increasing regularisation. Duality gap: 3.434e+07, tolerance: 1.474e+04 Linear regression models with null weight for the l1 regularization term are more efficiently fitted using one of the solvers implemented in sklearn.linear_model.Ridge/RidgeCV instead.\n",
            "  model = cd_fast.enet_coordinate_descent(\n",
            "/usr/local/lib/python3.10/dist-packages/sklearn/linear_model/_coordinate_descent.py:697: ConvergenceWarning: Objective did not converge. You might want to increase the number of iterations, check the scale of the features or consider increasing regularisation. Duality gap: 5.311e+07, tolerance: 1.612e+04 Linear regression models with null weight for the l1 regularization term are more efficiently fitted using one of the solvers implemented in sklearn.linear_model.Ridge/RidgeCV instead.\n",
            "  model = cd_fast.enet_coordinate_descent(\n",
            "/usr/local/lib/python3.10/dist-packages/sklearn/linear_model/_coordinate_descent.py:697: ConvergenceWarning: Objective did not converge. You might want to increase the number of iterations, check the scale of the features or consider increasing regularisation. Duality gap: 5.071e+07, tolerance: 1.545e+04 Linear regression models with null weight for the l1 regularization term are more efficiently fitted using one of the solvers implemented in sklearn.linear_model.Ridge/RidgeCV instead.\n",
            "  model = cd_fast.enet_coordinate_descent(\n",
            "/usr/local/lib/python3.10/dist-packages/sklearn/linear_model/_coordinate_descent.py:697: ConvergenceWarning: Objective did not converge. You might want to increase the number of iterations, check the scale of the features or consider increasing regularisation. Duality gap: 5.130e+07, tolerance: 1.617e+04 Linear regression models with null weight for the l1 regularization term are more efficiently fitted using one of the solvers implemented in sklearn.linear_model.Ridge/RidgeCV instead.\n",
            "  model = cd_fast.enet_coordinate_descent(\n",
            "/usr/local/lib/python3.10/dist-packages/sklearn/linear_model/_coordinate_descent.py:697: ConvergenceWarning: Objective did not converge. You might want to increase the number of iterations, check the scale of the features or consider increasing regularisation. Duality gap: 5.261e+07, tolerance: 1.582e+04 Linear regression models with null weight for the l1 regularization term are more efficiently fitted using one of the solvers implemented in sklearn.linear_model.Ridge/RidgeCV instead.\n",
            "  model = cd_fast.enet_coordinate_descent(\n",
            "/usr/local/lib/python3.10/dist-packages/sklearn/linear_model/_coordinate_descent.py:697: ConvergenceWarning: Objective did not converge. You might want to increase the number of iterations, check the scale of the features or consider increasing regularisation. Duality gap: 4.656e+07, tolerance: 1.474e+04 Linear regression models with null weight for the l1 regularization term are more efficiently fitted using one of the solvers implemented in sklearn.linear_model.Ridge/RidgeCV instead.\n",
            "  model = cd_fast.enet_coordinate_descent(\n",
            "/usr/local/lib/python3.10/dist-packages/sklearn/linear_model/_coordinate_descent.py:697: ConvergenceWarning: Objective did not converge. You might want to increase the number of iterations, check the scale of the features or consider increasing regularisation. Duality gap: 6.916e+07, tolerance: 1.612e+04 Linear regression models with null weight for the l1 regularization term are more efficiently fitted using one of the solvers implemented in sklearn.linear_model.Ridge/RidgeCV instead.\n",
            "  model = cd_fast.enet_coordinate_descent(\n",
            "/usr/local/lib/python3.10/dist-packages/sklearn/linear_model/_coordinate_descent.py:697: ConvergenceWarning: Objective did not converge. You might want to increase the number of iterations, check the scale of the features or consider increasing regularisation. Duality gap: 6.562e+07, tolerance: 1.545e+04 Linear regression models with null weight for the l1 regularization term are more efficiently fitted using one of the solvers implemented in sklearn.linear_model.Ridge/RidgeCV instead.\n",
            "  model = cd_fast.enet_coordinate_descent(\n",
            "/usr/local/lib/python3.10/dist-packages/sklearn/linear_model/_coordinate_descent.py:697: ConvergenceWarning: Objective did not converge. You might want to increase the number of iterations, check the scale of the features or consider increasing regularisation. Duality gap: 6.678e+07, tolerance: 1.617e+04 Linear regression models with null weight for the l1 regularization term are more efficiently fitted using one of the solvers implemented in sklearn.linear_model.Ridge/RidgeCV instead.\n",
            "  model = cd_fast.enet_coordinate_descent(\n",
            "/usr/local/lib/python3.10/dist-packages/sklearn/linear_model/_coordinate_descent.py:697: ConvergenceWarning: Objective did not converge. You might want to increase the number of iterations, check the scale of the features or consider increasing regularisation. Duality gap: 6.773e+07, tolerance: 1.582e+04 Linear regression models with null weight for the l1 regularization term are more efficiently fitted using one of the solvers implemented in sklearn.linear_model.Ridge/RidgeCV instead.\n",
            "  model = cd_fast.enet_coordinate_descent(\n",
            "/usr/local/lib/python3.10/dist-packages/sklearn/linear_model/_coordinate_descent.py:697: ConvergenceWarning: Objective did not converge. You might want to increase the number of iterations, check the scale of the features or consider increasing regularisation. Duality gap: 6.167e+07, tolerance: 1.474e+04 Linear regression models with null weight for the l1 regularization term are more efficiently fitted using one of the solvers implemented in sklearn.linear_model.Ridge/RidgeCV instead.\n",
            "  model = cd_fast.enet_coordinate_descent(\n",
            "/usr/local/lib/python3.10/dist-packages/sklearn/linear_model/_coordinate_descent.py:697: ConvergenceWarning: Objective did not converge. You might want to increase the number of iterations, check the scale of the features or consider increasing regularisation. Duality gap: 7.849e+07, tolerance: 1.612e+04 Linear regression models with null weight for the l1 regularization term are more efficiently fitted using one of the solvers implemented in sklearn.linear_model.Ridge/RidgeCV instead.\n",
            "  model = cd_fast.enet_coordinate_descent(\n",
            "/usr/local/lib/python3.10/dist-packages/sklearn/linear_model/_coordinate_descent.py:697: ConvergenceWarning: Objective did not converge. You might want to increase the number of iterations, check the scale of the features or consider increasing regularisation. Duality gap: 7.501e+07, tolerance: 1.545e+04 Linear regression models with null weight for the l1 regularization term are more efficiently fitted using one of the solvers implemented in sklearn.linear_model.Ridge/RidgeCV instead.\n",
            "  model = cd_fast.enet_coordinate_descent(\n"
          ]
        },
        {
          "output_type": "stream",
          "name": "stdout",
          "text": [
            "Лучшие гиперпараметры - alpha: 10, l1_ratio: 1\n",
            "MAE на тренировочных фолдах: 485.922899651858\n",
            "MAE на валидационных фолдах: 557.1940511910907\n",
            "MSE на тренировочных фолдах: 396278.72796282073\n",
            "MSE на валидационных фолдах: 396278.72796282073\n"
          ]
        },
        {
          "output_type": "stream",
          "name": "stderr",
          "text": [
            "/usr/local/lib/python3.10/dist-packages/sklearn/linear_model/_coordinate_descent.py:697: ConvergenceWarning: Objective did not converge. You might want to increase the number of iterations, check the scale of the features or consider increasing regularisation. Duality gap: 7.795e+07, tolerance: 1.617e+04 Linear regression models with null weight for the l1 regularization term are more efficiently fitted using one of the solvers implemented in sklearn.linear_model.Ridge/RidgeCV instead.\n",
            "  model = cd_fast.enet_coordinate_descent(\n",
            "/usr/local/lib/python3.10/dist-packages/sklearn/linear_model/_coordinate_descent.py:697: ConvergenceWarning: Objective did not converge. You might want to increase the number of iterations, check the scale of the features or consider increasing regularisation. Duality gap: 7.687e+07, tolerance: 1.582e+04 Linear regression models with null weight for the l1 regularization term are more efficiently fitted using one of the solvers implemented in sklearn.linear_model.Ridge/RidgeCV instead.\n",
            "  model = cd_fast.enet_coordinate_descent(\n",
            "/usr/local/lib/python3.10/dist-packages/sklearn/linear_model/_coordinate_descent.py:697: ConvergenceWarning: Objective did not converge. You might want to increase the number of iterations, check the scale of the features or consider increasing regularisation. Duality gap: 7.150e+07, tolerance: 1.474e+04 Linear regression models with null weight for the l1 regularization term are more efficiently fitted using one of the solvers implemented in sklearn.linear_model.Ridge/RidgeCV instead.\n",
            "  model = cd_fast.enet_coordinate_descent(\n",
            "/usr/local/lib/python3.10/dist-packages/sklearn/model_selection/_validation.py:540: FitFailedWarning: \n",
            "225 fits failed out of a total of 275.\n",
            "The score on these train-test partitions for these parameters will be set to nan.\n",
            "If these failures are not expected, you can try to debug them by setting error_score='raise'.\n",
            "\n",
            "Below are more details about the failures:\n",
            "--------------------------------------------------------------------------------\n",
            "25 fits failed with the following error:\n",
            "Traceback (most recent call last):\n",
            "  File \"/usr/local/lib/python3.10/dist-packages/sklearn/model_selection/_validation.py\", line 888, in _fit_and_score\n",
            "    estimator.fit(X_train, y_train, **fit_params)\n",
            "  File \"/usr/local/lib/python3.10/dist-packages/sklearn/base.py\", line 1466, in wrapper\n",
            "    estimator._validate_params()\n",
            "  File \"/usr/local/lib/python3.10/dist-packages/sklearn/base.py\", line 666, in _validate_params\n",
            "    validate_parameter_constraints(\n",
            "  File \"/usr/local/lib/python3.10/dist-packages/sklearn/utils/_param_validation.py\", line 95, in validate_parameter_constraints\n",
            "    raise InvalidParameterError(\n",
            "sklearn.utils._param_validation.InvalidParameterError: The 'l1_ratio' parameter of ElasticNet must be a float in the range [0.0, 1.0]. Got 2 instead.\n",
            "\n",
            "--------------------------------------------------------------------------------\n",
            "25 fits failed with the following error:\n",
            "Traceback (most recent call last):\n",
            "  File \"/usr/local/lib/python3.10/dist-packages/sklearn/model_selection/_validation.py\", line 888, in _fit_and_score\n",
            "    estimator.fit(X_train, y_train, **fit_params)\n",
            "  File \"/usr/local/lib/python3.10/dist-packages/sklearn/base.py\", line 1466, in wrapper\n",
            "    estimator._validate_params()\n",
            "  File \"/usr/local/lib/python3.10/dist-packages/sklearn/base.py\", line 666, in _validate_params\n",
            "    validate_parameter_constraints(\n",
            "  File \"/usr/local/lib/python3.10/dist-packages/sklearn/utils/_param_validation.py\", line 95, in validate_parameter_constraints\n",
            "    raise InvalidParameterError(\n",
            "sklearn.utils._param_validation.InvalidParameterError: The 'l1_ratio' parameter of ElasticNet must be a float in the range [0.0, 1.0]. Got 3 instead.\n",
            "\n",
            "--------------------------------------------------------------------------------\n",
            "25 fits failed with the following error:\n",
            "Traceback (most recent call last):\n",
            "  File \"/usr/local/lib/python3.10/dist-packages/sklearn/model_selection/_validation.py\", line 888, in _fit_and_score\n",
            "    estimator.fit(X_train, y_train, **fit_params)\n",
            "  File \"/usr/local/lib/python3.10/dist-packages/sklearn/base.py\", line 1466, in wrapper\n",
            "    estimator._validate_params()\n",
            "  File \"/usr/local/lib/python3.10/dist-packages/sklearn/base.py\", line 666, in _validate_params\n",
            "    validate_parameter_constraints(\n",
            "  File \"/usr/local/lib/python3.10/dist-packages/sklearn/utils/_param_validation.py\", line 95, in validate_parameter_constraints\n",
            "    raise InvalidParameterError(\n",
            "sklearn.utils._param_validation.InvalidParameterError: The 'l1_ratio' parameter of ElasticNet must be a float in the range [0.0, 1.0]. Got 4 instead.\n",
            "\n",
            "--------------------------------------------------------------------------------\n",
            "25 fits failed with the following error:\n",
            "Traceback (most recent call last):\n",
            "  File \"/usr/local/lib/python3.10/dist-packages/sklearn/model_selection/_validation.py\", line 888, in _fit_and_score\n",
            "    estimator.fit(X_train, y_train, **fit_params)\n",
            "  File \"/usr/local/lib/python3.10/dist-packages/sklearn/base.py\", line 1466, in wrapper\n",
            "    estimator._validate_params()\n",
            "  File \"/usr/local/lib/python3.10/dist-packages/sklearn/base.py\", line 666, in _validate_params\n",
            "    validate_parameter_constraints(\n",
            "  File \"/usr/local/lib/python3.10/dist-packages/sklearn/utils/_param_validation.py\", line 95, in validate_parameter_constraints\n",
            "    raise InvalidParameterError(\n",
            "sklearn.utils._param_validation.InvalidParameterError: The 'l1_ratio' parameter of ElasticNet must be a float in the range [0.0, 1.0]. Got 5 instead.\n",
            "\n",
            "--------------------------------------------------------------------------------\n",
            "25 fits failed with the following error:\n",
            "Traceback (most recent call last):\n",
            "  File \"/usr/local/lib/python3.10/dist-packages/sklearn/model_selection/_validation.py\", line 888, in _fit_and_score\n",
            "    estimator.fit(X_train, y_train, **fit_params)\n",
            "  File \"/usr/local/lib/python3.10/dist-packages/sklearn/base.py\", line 1466, in wrapper\n",
            "    estimator._validate_params()\n",
            "  File \"/usr/local/lib/python3.10/dist-packages/sklearn/base.py\", line 666, in _validate_params\n",
            "    validate_parameter_constraints(\n",
            "  File \"/usr/local/lib/python3.10/dist-packages/sklearn/utils/_param_validation.py\", line 95, in validate_parameter_constraints\n",
            "    raise InvalidParameterError(\n",
            "sklearn.utils._param_validation.InvalidParameterError: The 'l1_ratio' parameter of ElasticNet must be a float in the range [0.0, 1.0]. Got 6 instead.\n",
            "\n",
            "--------------------------------------------------------------------------------\n",
            "25 fits failed with the following error:\n",
            "Traceback (most recent call last):\n",
            "  File \"/usr/local/lib/python3.10/dist-packages/sklearn/model_selection/_validation.py\", line 888, in _fit_and_score\n",
            "    estimator.fit(X_train, y_train, **fit_params)\n",
            "  File \"/usr/local/lib/python3.10/dist-packages/sklearn/base.py\", line 1466, in wrapper\n",
            "    estimator._validate_params()\n",
            "  File \"/usr/local/lib/python3.10/dist-packages/sklearn/base.py\", line 666, in _validate_params\n",
            "    validate_parameter_constraints(\n",
            "  File \"/usr/local/lib/python3.10/dist-packages/sklearn/utils/_param_validation.py\", line 95, in validate_parameter_constraints\n",
            "    raise InvalidParameterError(\n",
            "sklearn.utils._param_validation.InvalidParameterError: The 'l1_ratio' parameter of ElasticNet must be a float in the range [0.0, 1.0]. Got 7 instead.\n",
            "\n",
            "--------------------------------------------------------------------------------\n",
            "25 fits failed with the following error:\n",
            "Traceback (most recent call last):\n",
            "  File \"/usr/local/lib/python3.10/dist-packages/sklearn/model_selection/_validation.py\", line 888, in _fit_and_score\n",
            "    estimator.fit(X_train, y_train, **fit_params)\n",
            "  File \"/usr/local/lib/python3.10/dist-packages/sklearn/base.py\", line 1466, in wrapper\n",
            "    estimator._validate_params()\n",
            "  File \"/usr/local/lib/python3.10/dist-packages/sklearn/base.py\", line 666, in _validate_params\n",
            "    validate_parameter_constraints(\n",
            "  File \"/usr/local/lib/python3.10/dist-packages/sklearn/utils/_param_validation.py\", line 95, in validate_parameter_constraints\n",
            "    raise InvalidParameterError(\n",
            "sklearn.utils._param_validation.InvalidParameterError: The 'l1_ratio' parameter of ElasticNet must be a float in the range [0.0, 1.0]. Got 8 instead.\n",
            "\n",
            "--------------------------------------------------------------------------------\n",
            "25 fits failed with the following error:\n",
            "Traceback (most recent call last):\n",
            "  File \"/usr/local/lib/python3.10/dist-packages/sklearn/model_selection/_validation.py\", line 888, in _fit_and_score\n",
            "    estimator.fit(X_train, y_train, **fit_params)\n",
            "  File \"/usr/local/lib/python3.10/dist-packages/sklearn/base.py\", line 1466, in wrapper\n",
            "    estimator._validate_params()\n",
            "  File \"/usr/local/lib/python3.10/dist-packages/sklearn/base.py\", line 666, in _validate_params\n",
            "    validate_parameter_constraints(\n",
            "  File \"/usr/local/lib/python3.10/dist-packages/sklearn/utils/_param_validation.py\", line 95, in validate_parameter_constraints\n",
            "    raise InvalidParameterError(\n",
            "sklearn.utils._param_validation.InvalidParameterError: The 'l1_ratio' parameter of ElasticNet must be a float in the range [0.0, 1.0]. Got 9 instead.\n",
            "\n",
            "--------------------------------------------------------------------------------\n",
            "25 fits failed with the following error:\n",
            "Traceback (most recent call last):\n",
            "  File \"/usr/local/lib/python3.10/dist-packages/sklearn/model_selection/_validation.py\", line 888, in _fit_and_score\n",
            "    estimator.fit(X_train, y_train, **fit_params)\n",
            "  File \"/usr/local/lib/python3.10/dist-packages/sklearn/base.py\", line 1466, in wrapper\n",
            "    estimator._validate_params()\n",
            "  File \"/usr/local/lib/python3.10/dist-packages/sklearn/base.py\", line 666, in _validate_params\n",
            "    validate_parameter_constraints(\n",
            "  File \"/usr/local/lib/python3.10/dist-packages/sklearn/utils/_param_validation.py\", line 95, in validate_parameter_constraints\n",
            "    raise InvalidParameterError(\n",
            "sklearn.utils._param_validation.InvalidParameterError: The 'l1_ratio' parameter of ElasticNet must be a float in the range [0.0, 1.0]. Got 10 instead.\n",
            "\n",
            "  warnings.warn(some_fits_failed_message, FitFailedWarning)\n",
            "/usr/local/lib/python3.10/dist-packages/sklearn/model_selection/_search.py:1103: UserWarning: One or more of the test scores are non-finite: [-568.69933348 -571.70573724           nan           nan           nan\n",
            "           nan           nan           nan           nan           nan\n",
            "           nan -577.87958375 -571.48809884           nan           nan\n",
            "           nan           nan           nan           nan           nan\n",
            "           nan           nan -627.60249055 -569.29578694           nan\n",
            "           nan           nan           nan           nan           nan\n",
            "           nan           nan           nan -709.93548277 -557.19405119\n",
            "           nan           nan           nan           nan           nan\n",
            "           nan           nan           nan           nan -776.7731955\n",
            " -575.10586297           nan           nan           nan           nan\n",
            "           nan           nan           nan           nan           nan]\n",
            "  warnings.warn(\n"
          ]
        }
      ]
    },
    {
      "cell_type": "markdown",
      "source": [
        "В общем, модель ElasticNet с текущими гиперпараметрами показывает довольно плохие результаты, и стоит рассмотреть другие способы улучшения её качества."
      ],
      "metadata": {
        "id": "er2lAiE9QpAb"
      },
      "id": "er2lAiE9QpAb"
    },
    {
      "cell_type": "markdown",
      "id": "91c6e1d1",
      "metadata": {
        "id": "91c6e1d1"
      },
      "source": [
        "### Задание 8.5. (1 балл)\n",
        "\n",
        "Завершением вашей работы будет сводная таблица результатов, которую вы представите на презентации заказчику Василию.\n",
        "\n",
        "Составьте таблицу (DataFrame) со следующими столбцами (имена столбцов выберите самостоятельно):\n",
        "* Наименование модели.\n",
        "* Гиперпараметры (коэффициенты регуляризации, если таковые имеются), если нет — оставьте ячейку пустой.\n",
        "* Использовались ли полиномиальные признаки при построении модели (Да/Нет или True/False).\n",
        "* Значение выбранной метрики на тренировочных фолдах при кросс-валидации модели.\n",
        "* Значение выбранной метрики на валидационных фолдах при кросс-валидации модели.\n",
        "\n",
        "Сделайте финальный вывод по проделанной работе. Какая линейная модель из тех, что мы рассмотрели, показала наилучший результат с точки зрения качества на валидационных фолдах, а также с точки зрения переобученности?"
      ]
    },
    {
      "cell_type": "markdown",
      "source": [
        "**Критерии оценивания:**\n",
        "\n",
        "- Задание выполнено верно, учтены все условия (**1 балл**):\n",
        "    * верно составлена сводная таблица итоговых результатов построенных ранее моделей с указанными в задании столбцами;\n",
        "    * приведены итоговые выводы по проделанной работе, указано, какая из рассмотренных моделей показала наилучший результат.\n",
        "\n",
        "- Задание выполнено неверно, не учтено одно или несколько условий (**0 баллов**)."
      ],
      "metadata": {
        "id": "OsFRaKkF_nLq"
      },
      "id": "OsFRaKkF_nLq"
    },
    {
      "cell_type": "code",
      "source": [
        "# Создание списка данных для таблицы\n",
        "model_data = [\n",
        "    {\n",
        "        'Модель': 'Lasso',\n",
        "        'Гиперпараметры': f'alpha: {best_alpha}',\n",
        "        'Использовались полиномиальные признаки': 'Да',\n",
        "        'MAE на тренировочных фолдах': -cv_results_lasso['train_score'].mean(),\n",
        "        'MAE на валидационных фолдах': -cv_results_lasso['test_score'].mean()\n",
        "    },\n",
        "    {\n",
        "        'Модель': 'Ridge',\n",
        "        'Гиперпараметры': f'alpha: {alpha_ridge}',\n",
        "        'Использовались полиномиальные признаки': 'Да',\n",
        "        'MAE на тренировочных фолдах': -cv_results['train_score'].mean(),\n",
        "        'MAE на валидационных фолдах': -cv_results['test_score'].mean()\n",
        "    },\n",
        "    {\n",
        "        'Модель': 'ElasticNet',\n",
        "        'Гиперпараметры': f'alpha: {best_alpha}, l1_ratio: {best_l1_ratio}',\n",
        "        'Использовались полиномиальные признаки': 'Да',\n",
        "        'MAE на тренировочных фолдах': -cv_results_elasticnet['train_score'].mean(),\n",
        "        'MAE на валидационных фолдах': -cv_results_elasticnet['test_score'].mean()\n",
        "    }\n",
        "]\n",
        "\n",
        "# Создание DataFrame из списка\n",
        "df = pd.DataFrame(model_data)\n",
        "df\n"
      ],
      "metadata": {
        "id": "wRiys8lKQuqW",
        "colab": {
          "base_uri": "https://localhost:8080/",
          "height": 143
        },
        "outputId": "e53b18d0-3f0c-43ef-ca60-3fec032525e9"
      },
      "id": "wRiys8lKQuqW",
      "execution_count": 160,
      "outputs": [
        {
          "output_type": "execute_result",
          "data": {
            "text/plain": [
              "       Модель          Гиперпараметры Использовались полиномиальные признаки  \\\n",
              "0       Lasso               alpha: 10                                     Да   \n",
              "1       Ridge              alpha: 0.1                                     Да   \n",
              "2  ElasticNet  alpha: 10, l1_ratio: 1                                     Да   \n",
              "\n",
              "   MAE на тренировочных фолдах  MAE на валидационных фолдах  \n",
              "0                   485.922900                   557.194051  \n",
              "1                     0.120295                     0.142673  \n",
              "2                   485.922900                   557.194051  "
            ],
            "text/html": [
              "\n",
              "  <div id=\"df-16e98d3d-aff1-4edb-95b6-f22d6fc0af73\" class=\"colab-df-container\">\n",
              "    <div>\n",
              "<style scoped>\n",
              "    .dataframe tbody tr th:only-of-type {\n",
              "        vertical-align: middle;\n",
              "    }\n",
              "\n",
              "    .dataframe tbody tr th {\n",
              "        vertical-align: top;\n",
              "    }\n",
              "\n",
              "    .dataframe thead th {\n",
              "        text-align: right;\n",
              "    }\n",
              "</style>\n",
              "<table border=\"1\" class=\"dataframe\">\n",
              "  <thead>\n",
              "    <tr style=\"text-align: right;\">\n",
              "      <th></th>\n",
              "      <th>Модель</th>\n",
              "      <th>Гиперпараметры</th>\n",
              "      <th>Использовались полиномиальные признаки</th>\n",
              "      <th>MAE на тренировочных фолдах</th>\n",
              "      <th>MAE на валидационных фолдах</th>\n",
              "    </tr>\n",
              "  </thead>\n",
              "  <tbody>\n",
              "    <tr>\n",
              "      <th>0</th>\n",
              "      <td>Lasso</td>\n",
              "      <td>alpha: 10</td>\n",
              "      <td>Да</td>\n",
              "      <td>485.922900</td>\n",
              "      <td>557.194051</td>\n",
              "    </tr>\n",
              "    <tr>\n",
              "      <th>1</th>\n",
              "      <td>Ridge</td>\n",
              "      <td>alpha: 0.1</td>\n",
              "      <td>Да</td>\n",
              "      <td>0.120295</td>\n",
              "      <td>0.142673</td>\n",
              "    </tr>\n",
              "    <tr>\n",
              "      <th>2</th>\n",
              "      <td>ElasticNet</td>\n",
              "      <td>alpha: 10, l1_ratio: 1</td>\n",
              "      <td>Да</td>\n",
              "      <td>485.922900</td>\n",
              "      <td>557.194051</td>\n",
              "    </tr>\n",
              "  </tbody>\n",
              "</table>\n",
              "</div>\n",
              "    <div class=\"colab-df-buttons\">\n",
              "\n",
              "  <div class=\"colab-df-container\">\n",
              "    <button class=\"colab-df-convert\" onclick=\"convertToInteractive('df-16e98d3d-aff1-4edb-95b6-f22d6fc0af73')\"\n",
              "            title=\"Convert this dataframe to an interactive table.\"\n",
              "            style=\"display:none;\">\n",
              "\n",
              "  <svg xmlns=\"http://www.w3.org/2000/svg\" height=\"24px\" viewBox=\"0 -960 960 960\">\n",
              "    <path d=\"M120-120v-720h720v720H120Zm60-500h600v-160H180v160Zm220 220h160v-160H400v160Zm0 220h160v-160H400v160ZM180-400h160v-160H180v160Zm440 0h160v-160H620v160ZM180-180h160v-160H180v160Zm440 0h160v-160H620v160Z\"/>\n",
              "  </svg>\n",
              "    </button>\n",
              "\n",
              "  <style>\n",
              "    .colab-df-container {\n",
              "      display:flex;\n",
              "      gap: 12px;\n",
              "    }\n",
              "\n",
              "    .colab-df-convert {\n",
              "      background-color: #E8F0FE;\n",
              "      border: none;\n",
              "      border-radius: 50%;\n",
              "      cursor: pointer;\n",
              "      display: none;\n",
              "      fill: #1967D2;\n",
              "      height: 32px;\n",
              "      padding: 0 0 0 0;\n",
              "      width: 32px;\n",
              "    }\n",
              "\n",
              "    .colab-df-convert:hover {\n",
              "      background-color: #E2EBFA;\n",
              "      box-shadow: 0px 1px 2px rgba(60, 64, 67, 0.3), 0px 1px 3px 1px rgba(60, 64, 67, 0.15);\n",
              "      fill: #174EA6;\n",
              "    }\n",
              "\n",
              "    .colab-df-buttons div {\n",
              "      margin-bottom: 4px;\n",
              "    }\n",
              "\n",
              "    [theme=dark] .colab-df-convert {\n",
              "      background-color: #3B4455;\n",
              "      fill: #D2E3FC;\n",
              "    }\n",
              "\n",
              "    [theme=dark] .colab-df-convert:hover {\n",
              "      background-color: #434B5C;\n",
              "      box-shadow: 0px 1px 3px 1px rgba(0, 0, 0, 0.15);\n",
              "      filter: drop-shadow(0px 1px 2px rgba(0, 0, 0, 0.3));\n",
              "      fill: #FFFFFF;\n",
              "    }\n",
              "  </style>\n",
              "\n",
              "    <script>\n",
              "      const buttonEl =\n",
              "        document.querySelector('#df-16e98d3d-aff1-4edb-95b6-f22d6fc0af73 button.colab-df-convert');\n",
              "      buttonEl.style.display =\n",
              "        google.colab.kernel.accessAllowed ? 'block' : 'none';\n",
              "\n",
              "      async function convertToInteractive(key) {\n",
              "        const element = document.querySelector('#df-16e98d3d-aff1-4edb-95b6-f22d6fc0af73');\n",
              "        const dataTable =\n",
              "          await google.colab.kernel.invokeFunction('convertToInteractive',\n",
              "                                                    [key], {});\n",
              "        if (!dataTable) return;\n",
              "\n",
              "        const docLinkHtml = 'Like what you see? Visit the ' +\n",
              "          '<a target=\"_blank\" href=https://colab.research.google.com/notebooks/data_table.ipynb>data table notebook</a>'\n",
              "          + ' to learn more about interactive tables.';\n",
              "        element.innerHTML = '';\n",
              "        dataTable['output_type'] = 'display_data';\n",
              "        await google.colab.output.renderOutput(dataTable, element);\n",
              "        const docLink = document.createElement('div');\n",
              "        docLink.innerHTML = docLinkHtml;\n",
              "        element.appendChild(docLink);\n",
              "      }\n",
              "    </script>\n",
              "  </div>\n",
              "\n",
              "\n",
              "<div id=\"df-b1e59aa4-d5fd-4208-a351-6bf8c0d82707\">\n",
              "  <button class=\"colab-df-quickchart\" onclick=\"quickchart('df-b1e59aa4-d5fd-4208-a351-6bf8c0d82707')\"\n",
              "            title=\"Suggest charts\"\n",
              "            style=\"display:none;\">\n",
              "\n",
              "<svg xmlns=\"http://www.w3.org/2000/svg\" height=\"24px\"viewBox=\"0 0 24 24\"\n",
              "     width=\"24px\">\n",
              "    <g>\n",
              "        <path d=\"M19 3H5c-1.1 0-2 .9-2 2v14c0 1.1.9 2 2 2h14c1.1 0 2-.9 2-2V5c0-1.1-.9-2-2-2zM9 17H7v-7h2v7zm4 0h-2V7h2v10zm4 0h-2v-4h2v4z\"/>\n",
              "    </g>\n",
              "</svg>\n",
              "  </button>\n",
              "\n",
              "<style>\n",
              "  .colab-df-quickchart {\n",
              "      --bg-color: #E8F0FE;\n",
              "      --fill-color: #1967D2;\n",
              "      --hover-bg-color: #E2EBFA;\n",
              "      --hover-fill-color: #174EA6;\n",
              "      --disabled-fill-color: #AAA;\n",
              "      --disabled-bg-color: #DDD;\n",
              "  }\n",
              "\n",
              "  [theme=dark] .colab-df-quickchart {\n",
              "      --bg-color: #3B4455;\n",
              "      --fill-color: #D2E3FC;\n",
              "      --hover-bg-color: #434B5C;\n",
              "      --hover-fill-color: #FFFFFF;\n",
              "      --disabled-bg-color: #3B4455;\n",
              "      --disabled-fill-color: #666;\n",
              "  }\n",
              "\n",
              "  .colab-df-quickchart {\n",
              "    background-color: var(--bg-color);\n",
              "    border: none;\n",
              "    border-radius: 50%;\n",
              "    cursor: pointer;\n",
              "    display: none;\n",
              "    fill: var(--fill-color);\n",
              "    height: 32px;\n",
              "    padding: 0;\n",
              "    width: 32px;\n",
              "  }\n",
              "\n",
              "  .colab-df-quickchart:hover {\n",
              "    background-color: var(--hover-bg-color);\n",
              "    box-shadow: 0 1px 2px rgba(60, 64, 67, 0.3), 0 1px 3px 1px rgba(60, 64, 67, 0.15);\n",
              "    fill: var(--button-hover-fill-color);\n",
              "  }\n",
              "\n",
              "  .colab-df-quickchart-complete:disabled,\n",
              "  .colab-df-quickchart-complete:disabled:hover {\n",
              "    background-color: var(--disabled-bg-color);\n",
              "    fill: var(--disabled-fill-color);\n",
              "    box-shadow: none;\n",
              "  }\n",
              "\n",
              "  .colab-df-spinner {\n",
              "    border: 2px solid var(--fill-color);\n",
              "    border-color: transparent;\n",
              "    border-bottom-color: var(--fill-color);\n",
              "    animation:\n",
              "      spin 1s steps(1) infinite;\n",
              "  }\n",
              "\n",
              "  @keyframes spin {\n",
              "    0% {\n",
              "      border-color: transparent;\n",
              "      border-bottom-color: var(--fill-color);\n",
              "      border-left-color: var(--fill-color);\n",
              "    }\n",
              "    20% {\n",
              "      border-color: transparent;\n",
              "      border-left-color: var(--fill-color);\n",
              "      border-top-color: var(--fill-color);\n",
              "    }\n",
              "    30% {\n",
              "      border-color: transparent;\n",
              "      border-left-color: var(--fill-color);\n",
              "      border-top-color: var(--fill-color);\n",
              "      border-right-color: var(--fill-color);\n",
              "    }\n",
              "    40% {\n",
              "      border-color: transparent;\n",
              "      border-right-color: var(--fill-color);\n",
              "      border-top-color: var(--fill-color);\n",
              "    }\n",
              "    60% {\n",
              "      border-color: transparent;\n",
              "      border-right-color: var(--fill-color);\n",
              "    }\n",
              "    80% {\n",
              "      border-color: transparent;\n",
              "      border-right-color: var(--fill-color);\n",
              "      border-bottom-color: var(--fill-color);\n",
              "    }\n",
              "    90% {\n",
              "      border-color: transparent;\n",
              "      border-bottom-color: var(--fill-color);\n",
              "    }\n",
              "  }\n",
              "</style>\n",
              "\n",
              "  <script>\n",
              "    async function quickchart(key) {\n",
              "      const quickchartButtonEl =\n",
              "        document.querySelector('#' + key + ' button');\n",
              "      quickchartButtonEl.disabled = true;  // To prevent multiple clicks.\n",
              "      quickchartButtonEl.classList.add('colab-df-spinner');\n",
              "      try {\n",
              "        const charts = await google.colab.kernel.invokeFunction(\n",
              "            'suggestCharts', [key], {});\n",
              "      } catch (error) {\n",
              "        console.error('Error during call to suggestCharts:', error);\n",
              "      }\n",
              "      quickchartButtonEl.classList.remove('colab-df-spinner');\n",
              "      quickchartButtonEl.classList.add('colab-df-quickchart-complete');\n",
              "    }\n",
              "    (() => {\n",
              "      let quickchartButtonEl =\n",
              "        document.querySelector('#df-b1e59aa4-d5fd-4208-a351-6bf8c0d82707 button');\n",
              "      quickchartButtonEl.style.display =\n",
              "        google.colab.kernel.accessAllowed ? 'block' : 'none';\n",
              "    })();\n",
              "  </script>\n",
              "</div>\n",
              "    </div>\n",
              "  </div>\n"
            ],
            "application/vnd.google.colaboratory.intrinsic+json": {
              "type": "dataframe",
              "variable_name": "df",
              "summary": "{\n  \"name\": \"df\",\n  \"rows\": 3,\n  \"fields\": [\n    {\n      \"column\": \"\\u041c\\u043e\\u0434\\u0435\\u043b\\u044c\",\n      \"properties\": {\n        \"dtype\": \"string\",\n        \"num_unique_values\": 3,\n        \"samples\": [\n          \"Lasso\",\n          \"Ridge\",\n          \"ElasticNet\"\n        ],\n        \"semantic_type\": \"\",\n        \"description\": \"\"\n      }\n    },\n    {\n      \"column\": \"\\u0413\\u0438\\u043f\\u0435\\u0440\\u043f\\u0430\\u0440\\u0430\\u043c\\u0435\\u0442\\u0440\\u044b\",\n      \"properties\": {\n        \"dtype\": \"string\",\n        \"num_unique_values\": 3,\n        \"samples\": [\n          \"alpha: 10\",\n          \"alpha: 0.1\",\n          \"alpha: 10, l1_ratio: 1\"\n        ],\n        \"semantic_type\": \"\",\n        \"description\": \"\"\n      }\n    },\n    {\n      \"column\": \"\\u0418\\u0441\\u043f\\u043e\\u043b\\u044c\\u0437\\u043e\\u0432\\u0430\\u043b\\u0438\\u0441\\u044c \\u043f\\u043e\\u043b\\u0438\\u043d\\u043e\\u043c\\u0438\\u0430\\u043b\\u044c\\u043d\\u044b\\u0435 \\u043f\\u0440\\u0438\\u0437\\u043d\\u0430\\u043a\\u0438\",\n      \"properties\": {\n        \"dtype\": \"category\",\n        \"num_unique_values\": 1,\n        \"samples\": [\n          \"\\u0414\\u0430\"\n        ],\n        \"semantic_type\": \"\",\n        \"description\": \"\"\n      }\n    },\n    {\n      \"column\": \"MAE \\u043d\\u0430 \\u0442\\u0440\\u0435\\u043d\\u0438\\u0440\\u043e\\u0432\\u043e\\u0447\\u043d\\u044b\\u0445 \\u0444\\u043e\\u043b\\u0434\\u0430\\u0445\",\n      \"properties\": {\n        \"dtype\": \"number\",\n        \"std\": 280.47826473437027,\n        \"min\": 0.1202947131746384,\n        \"max\": 485.922899651858,\n        \"num_unique_values\": 2,\n        \"samples\": [\n          0.1202947131746384\n        ],\n        \"semantic_type\": \"\",\n        \"description\": \"\"\n      }\n    },\n    {\n      \"column\": \"MAE \\u043d\\u0430 \\u0432\\u0430\\u043b\\u0438\\u0434\\u0430\\u0446\\u0438\\u043e\\u043d\\u043d\\u044b\\u0445 \\u0444\\u043e\\u043b\\u0434\\u0430\\u0445\",\n      \"properties\": {\n        \"dtype\": \"number\",\n        \"std\": 321.6137631418606,\n        \"min\": 0.14267301596538137,\n        \"max\": 557.1940511910907,\n        \"num_unique_values\": 2,\n        \"samples\": [\n          0.14267301596538137\n        ],\n        \"semantic_type\": \"\",\n        \"description\": \"\"\n      }\n    }\n  ]\n}"
            }
          },
          "metadata": {},
          "execution_count": 160
        }
      ]
    },
    {
      "cell_type": "markdown",
      "source": [
        "Ridge является наилучшей моделью как с точки зрения качества на валидационных фолдах, так и с точки зрения переобученности, поскольку она показала наименьшую ошибку и не страдает от переобучения."
      ],
      "metadata": {
        "id": "UP7_LSoEQsrA"
      },
      "id": "UP7_LSoEQsrA"
    }
  ],
  "metadata": {
    "kernelspec": {
      "display_name": "Python 3.10.8 ('base')",
      "language": "python",
      "name": "python3"
    },
    "language_info": {
      "codemirror_mode": {
        "name": "ipython",
        "version": 3
      },
      "file_extension": ".py",
      "mimetype": "text/x-python",
      "name": "python",
      "nbconvert_exporter": "python",
      "pygments_lexer": "ipython3",
      "version": "3.10.8"
    },
    "vscode": {
      "interpreter": {
        "hash": "86c56a74836ad344b00594bf6f38fa6a676a207ceefe20d101fbc465800ccb8d"
      }
    },
    "colab": {
      "provenance": []
    }
  },
  "nbformat": 4,
  "nbformat_minor": 5
}